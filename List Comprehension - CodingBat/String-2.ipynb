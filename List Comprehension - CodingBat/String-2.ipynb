{
 "cells": [
  {
   "cell_type": "markdown",
   "metadata": {},
   "source": [
    "## String-2 > double_char\n",
    "Given a string, return a string where for every char in the original, there are two chars."
   ]
  },
  {
   "cell_type": "code",
   "execution_count": null,
   "metadata": {},
   "outputs": [],
   "source": [
    "def double_char(str):\n",
    "  return ''.join([i + i for i in str])\n"
   ]
  },
  {
   "cell_type": "code",
   "execution_count": null,
   "metadata": {},
   "outputs": [],
   "source": [
    "testers = [\"The\", \"AAbb\", \"Hi-There\", \"Word!\", \"!!\", \"\", \"a\", \".\", \"aa\"]\n",
    "\n",
    "expected = [\"TThhee\", \"AAAAbbbb\", \"HHii--TThheerree\", \"WWoorrdd!!\", \"!!!!\", \"\", \"aa\", \"..\", \"aaaa\"]\n",
    "\n",
    "results =[]\n",
    "\n",
    "for i in testers:\n",
    "    results.append(double_char(i))\n",
    "\n",
    "print(\"The function's returned result is equivalent to the expected result? \" + str(results == expected))"
   ]
  },
  {
   "cell_type": "markdown",
   "metadata": {},
   "source": [
    "#### A screenshot of the condigbat's execise is shown below:"
   ]
  },
  {
   "cell_type": "markdown",
   "metadata": {},
   "source": [
    "<img src=\"String-2_double_char.png\">"
   ]
  },
  {
   "cell_type": "markdown",
   "metadata": {},
   "source": [
    "## String-2 > count_hi\n",
    "Return the number of times that the string \"hi\" appears anywhere in the given string."
   ]
  },
  {
   "cell_type": "code",
   "execution_count": null,
   "metadata": {},
   "outputs": [],
   "source": [
    "def count_hi(str):\n",
    "  return len(str.split('hi'))-1\n"
   ]
  },
  {
   "cell_type": "code",
   "execution_count": null,
   "metadata": {},
   "outputs": [],
   "source": [
    "testers = [\"abc hi ho\", \"ABChi hi\", \"hihi\", \"hiHIhi\", \"\", \"h\", \"hi\", \"Hi is no HI on ahI\", \"hiho not HOHIhi\"]\n",
    "\n",
    "expected = [1, 2, 2, 2, 0, 0, 1, 0, 2]\n",
    "\n",
    "results =[]\n",
    "\n",
    "for i in testers:\n",
    "    results.append(count_hi(i))\n",
    "\n",
    "print(\"The function's returned result is equivalent to the expected result? \" + str(results == expected))"
   ]
  },
  {
   "cell_type": "markdown",
   "metadata": {},
   "source": [
    "#### A screenshot of the condigbat's execise is shown below:"
   ]
  },
  {
   "cell_type": "markdown",
   "metadata": {},
   "source": [
    "<img src=\"String-2_count_hi.png\">"
   ]
  },
  {
   "cell_type": "markdown",
   "metadata": {},
   "source": [
    "## String-2 > cat_dog\n",
    "Return True if the string \"cat\" and \"dog\" appear the same number of times in the given string."
   ]
  },
  {
   "cell_type": "code",
   "execution_count": null,
   "metadata": {},
   "outputs": [],
   "source": [
    "def cat_dog(str):\n",
    "  return True if len(str.split('cat')) == len(str.split('dog')) else False\n"
   ]
  },
  {
   "cell_type": "code",
   "execution_count": null,
   "metadata": {},
   "outputs": [],
   "source": [
    "testers = [\"catdog\", \"catcat\", \"1cat1cadodog\", \"catxxdogxxxdog\", \"catxdogxdogxcat\", \"catxdogxdogxca\", \"dogdogcat\", \"dogogcat\", \"dog\", \"cat\", \"ca\", \"c\", \"\"]\n",
    "\n",
    "expected = [True, False, True, False, True, False, False, True, False, False, True, True, True]\n",
    "\n",
    "results =[]\n",
    "\n",
    "for i in testers:\n",
    "    results.append(cat_dog(i))\n",
    "\n",
    "print(\"The function's returned result is equivalent to the expected result? \" + str(results == expected))"
   ]
  },
  {
   "cell_type": "markdown",
   "metadata": {},
   "source": [
    "#### A screenshot of the condigbat's execise is shown below:"
   ]
  },
  {
   "cell_type": "markdown",
   "metadata": {},
   "source": [
    "<img src=\"String-2_cat_dog.png\">"
   ]
  },
  {
   "cell_type": "markdown",
   "metadata": {},
   "source": [
    "## String-2 > count_code\n",
    "Return the number of times that the string \"code\" appears anywhere in the given string, except we'll accept any letter for the 'd', so \"cope\" and \"cooe\" count."
   ]
  },
  {
   "cell_type": "code",
   "execution_count": null,
   "metadata": {},
   "outputs": [],
   "source": [
    "def count_code(str):\n",
    "  return len([y for y in [x if x != '' and len(x) > 1 else 'no' for x in str.split('co')] if \n",
    "  y[1] == 'e'])\n"
   ]
  },
  {
   "cell_type": "code",
   "execution_count": null,
   "metadata": {},
   "outputs": [],
   "source": [
    "testers = [\"aaacodebbb\", \"codexxcode\", \"cozexxcope\", \"cozfxxcope\", \"xxcozeyycop\", \"cozcop\", \"abcxyz\", \"code\", \"ode\", \"c\", \"\", \"AAcodeBBcoleCCccoreDD\", \"AAcodeBBcoleCCccorfDD\", \"coAcodeBcoleccoreDD\"]\n",
    "\n",
    "expected = [1, 2, 2, 1, 1, 0, 0, 1, 0, 0, 0, 3, 2, 3]\n",
    "\n",
    "results =[]\n",
    "\n",
    "for i in testers:\n",
    "    results.append(count_code(i))\n",
    "\n",
    "print(\"The function's returned result is equivalent to the expected result? \" + str(results == expected))"
   ]
  },
  {
   "cell_type": "markdown",
   "metadata": {},
   "source": [
    "#### A screenshot of the condigbat's execise is shown below:"
   ]
  },
  {
   "cell_type": "markdown",
   "metadata": {},
   "source": [
    "<img src=\"String-2_count_code.png\">"
   ]
  },
  {
   "cell_type": "markdown",
   "metadata": {},
   "source": [
    "## String-2 > end_other\n",
    "Given two strings, return True if either of the strings appears at the very end of the other string, ignoring upper/lower case differences (in other words, the computation should not be \"case sensitive\"). Note: s.lower() returns the lowercase version of a string."
   ]
  },
  {
   "cell_type": "code",
   "execution_count": null,
   "metadata": {},
   "outputs": [],
   "source": [
    "def end_other(a, b):\n",
    "  return True if sorted([a,b], key = len)[0].lower() in \\\n",
    "  sorted([a,b], key = len)[1].lower()[-len(sorted([a,b], key = len)[0]):] else False\n"
   ]
  },
  {
   "cell_type": "code",
   "execution_count": null,
   "metadata": {},
   "outputs": [],
   "source": [
    "testers = [[\"Hiabc\", \"abc\"], [\"AbC\", \"HiaBc\"], [\"abc\", \"abXabc\"], [\"Hiabc\", \"abcd\"], [\"Hiabc\", \"bc\"], [\"Hiabcx\", \"bc\"], [\"abc\", \"abc\"], [\"xyz\", \"12xyz\"], [\"yz\", \"12xz\"], [\"Z\", \"12xz\"], [\"12\", \"12\"], [\"abcXYZ\", \"abcDEF\"], [\"ab\", \"ab12\"], [\"ab\", \"12ab\"]]\n",
    "\n",
    "expected = [True, True, True, False, True, False, True, True, False, True, True, False, False, True]\n",
    "\n",
    "results =[]\n",
    "\n",
    "for i in testers:\n",
    "    results.append(end_other(i[0],i[1]))\n",
    "\n",
    "print(\"The function's returned result is equivalent to the expected result? \" + str(results == expected))"
   ]
  },
  {
   "cell_type": "markdown",
   "metadata": {},
   "source": [
    "#### A screenshot of the condigbat's execise is shown below:"
   ]
  },
  {
   "cell_type": "markdown",
   "metadata": {},
   "source": [
    "<img src=\"String-2_end_other.png\">"
   ]
  },
  {
   "cell_type": "markdown",
   "metadata": {},
   "source": [
    "## String-2 > xyz_there\n",
    "Return True if the given string contains an appearance of \"xyz\" where the xyz is not directly preceeded by a period (.). So \"xxyz\" counts but \"x.xyz\" does not."
   ]
  },
  {
   "cell_type": "code",
   "execution_count": null,
   "metadata": {},
   "outputs": [],
   "source": [
    "def xyz_there(str):\n",
    "  return True in [\"xyz\" in x[1:] if '.x' in str else 'xyz' in x for x in str.split('.')]\n"
   ]
  },
  {
   "cell_type": "code",
   "execution_count": null,
   "metadata": {},
   "outputs": [],
   "source": [
    "testers = [\"abcxyz\", \"abc.xyz\", \"xyz.abc\", \"abcxy\", \"xyz\", \"xy\", \"x\", \"\", \"abc.xyzxyz\", \"abc.xxyz\", \".xyz\", \"12.xyz\", \"12xyz\", \"1.xyz.xyz2.xyz\"]\n",
    "\n",
    "expected = [True, False, True, False, True, False, False, False, True, True, False, False, True, False]\n",
    "\n",
    "results =[]\n",
    "\n",
    "for i in testers:\n",
    "    results.append(xyz_there(i))\n",
    "\n",
    "print(\"The function's returned result is equivalent to the expected result? \" + str(results == expected))"
   ]
  },
  {
   "cell_type": "markdown",
   "metadata": {},
   "source": [
    "#### A screenshot of the condigbat's execise is shown below:"
   ]
  },
  {
   "cell_type": "markdown",
   "metadata": {},
   "source": [
    "<img src=\"String-2_xyz_there.png\">"
   ]
  }
 ],
 "metadata": {},
 "nbformat": 4,
 "nbformat_minor": 2
}
