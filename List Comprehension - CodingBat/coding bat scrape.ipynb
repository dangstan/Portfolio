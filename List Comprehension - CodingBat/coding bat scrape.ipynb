{
 "cells": [
  {
   "cell_type": "code",
   "execution_count": 1,
   "metadata": {
    "ExecuteTime": {
     "end_time": "2021-02-06T16:13:28.981227Z",
     "start_time": "2021-02-06T16:13:27.656078Z"
    }
   },
   "outputs": [],
   "source": [
    "from selenium import webdriver\n",
    "from selenium.webdriver.common.keys import Keys\n",
    "from selenium.common.exceptions import NoSuchElementException\n",
    "from selenium.webdriver.common.action_chains import ActionChains\n",
    "from selenium.webdriver.common.by import By\n",
    "from selenium.webdriver.support.ui import WebDriverWait\n",
    "from selenium.webdriver.support import expected_conditions as EC\n",
    "from selenium.webdriver.chrome.options import Options\n",
    "import pyautogui\n",
    "import time\n",
    "import re\n",
    "import csv\n",
    "import string\n",
    "import pandas as pd\n",
    "import numpy as np\n",
    "import os\n",
    "from datetime import datetime, timedelta\n",
    "import nbformat as nbf\n",
    "import json\n",
    "import yaml\n"
   ]
  },
  {
   "cell_type": "code",
   "execution_count": 2,
   "metadata": {
    "ExecuteTime": {
     "end_time": "2021-02-06T16:13:29.564226Z",
     "start_time": "2021-02-06T16:13:29.559239Z"
    }
   },
   "outputs": [],
   "source": [
    "def opening_url(page_link):\n",
    "    \n",
    "    driver_path = 'D:\\Projetos_git\\chromedriver'\n",
    "    \n",
    "    chrome_options = Options()\n",
    "    chrome_options.add_argument(\"--headless\")\n",
    "    driver = webdriver.Chrome(driver_path) #, options=chrome_options)\n",
    "\n",
    "    driver.get(page_link)\n",
    "    time.sleep(3)\n",
    "    driver.maximize_window()\n",
    "    time.sleep(2)\n",
    "    \n",
    "    return driver"
   ]
  },
  {
   "cell_type": "code",
   "execution_count": 3,
   "metadata": {
    "ExecuteTime": {
     "end_time": "2021-02-06T16:13:30.493230Z",
     "start_time": "2021-02-06T16:13:30.487276Z"
    }
   },
   "outputs": [],
   "source": [
    "def credentials(driver):\n",
    "    \n",
    "    conf = yaml.load(open('credentials.yml'))\n",
    "    \n",
    "#    credentials.yml:\n",
    "\n",
    "#    text file with a structure like below:\n",
    "    \n",
    "    email = conf['user']['email']\n",
    "    pwd = conf['user']['password']\n",
    "    driver.find_element_by_xpath(\"//input[@name='uname']\").send_keys(email)\n",
    "    driver.find_element_by_xpath(\"//input[@name='pw']\").send_keys(pwd)\n",
    "    driver.find_element_by_xpath(\"//input[@name='pw']\").send_keys(Keys.ENTER)\n",
    "    time.sleep(3)\n",
    "\n",
    "    driver.refresh()\n",
    "    time.sleep(3)"
   ]
  },
  {
   "cell_type": "code",
   "execution_count": 4,
   "metadata": {
    "ExecuteTime": {
     "end_time": "2021-02-06T16:13:31.251823Z",
     "start_time": "2021-02-06T16:13:31.246837Z"
    },
    "scrolled": true
   },
   "outputs": [],
   "source": [
    "def topics_links(driver):\n",
    "    \n",
    "    elements = driver.find_elements_by_xpath(\"//a[contains(@href, '/python/')]\")\n",
    "\n",
    "    tasks = []\n",
    "    links = []\n",
    "\n",
    "    for elem in elements:\n",
    "        links.append(elem.get_attribute('href'))\n",
    "        el = elem.find_elements_by_xpath(\".//span[contains(@class, 'h2')]\")\n",
    "        for e in el:\n",
    "            tasks.append(e.text)\n",
    "\n",
    "    return tasks, links"
   ]
  },
  {
   "cell_type": "code",
   "execution_count": 5,
   "metadata": {
    "ExecuteTime": {
     "end_time": "2021-02-06T16:13:31.924162Z",
     "start_time": "2021-02-06T16:13:31.918172Z"
    }
   },
   "outputs": [],
   "source": [
    "def exercises_links(item):\n",
    "    \n",
    "    driver.get(item)\n",
    "    time.sleep(3)\n",
    "    elements = driver.find_elements_by_xpath(\"//a[contains(@href,'/prob')]\")\n",
    "\n",
    "    prob = []\n",
    "\n",
    "    for elem in elements:\n",
    "        prob.append(elem.get_attribute(\"href\"))\n",
    "    \n",
    "    return prob"
   ]
  },
  {
   "cell_type": "code",
   "execution_count": 6,
   "metadata": {
    "ExecuteTime": {
     "end_time": "2021-02-06T16:13:32.439048Z",
     "start_time": "2021-02-06T16:13:32.431066Z"
    }
   },
   "outputs": [],
   "source": [
    "def zoom_out():\n",
    "    \n",
    "    time.sleep(2)\n",
    "    pyautogui.moveTo(1300,500)\n",
    "    pyautogui.keyDown(\"ctrl\")\n",
    "    pyautogui.scroll(-300)\n",
    "    time.sleep(.5)\n",
    "    pyautogui.scroll(-300)\n",
    "    time.sleep(.5)\n",
    "    pyautogui.scroll(-300)\n",
    "    time.sleep(.5)\n",
    "    pyautogui.scroll(-300)\n",
    "    pyautogui.keyUp(\"ctrl\")\n",
    "    pyautogui.scroll(-90)\n",
    "    pyautogui.click()\n",
    "\n",
    "def printscreen(title):\n",
    "    img = pyautogui.screenshot(region=(5,145, 1220, 900))\n",
    "    title_name = title + \".png\"\n",
    "    img.save(title_name)\n",
    "    \n",
    "    return title_name"
   ]
  },
  {
   "cell_type": "code",
   "execution_count": 19,
   "metadata": {
    "ExecuteTime": {
     "end_time": "2021-02-06T16:42:40.835699Z",
     "start_time": "2021-02-06T16:42:40.828718Z"
    }
   },
   "outputs": [],
   "source": [
    "def get_content(item):\n",
    "    \n",
    "    driver.get(item)\n",
    "    time.sleep(4)\n",
    "    driver.find_element_by_xpath(\"//button[contains(@class,'go')]\").send_keys(Keys.ENTER)\n",
    "\n",
    "    time.sleep(3)\n",
    "\n",
    "    elements = driver.find_elements_by_xpath(\"//*\")\n",
    "\n",
    "    text = []\n",
    "\n",
    "    for elem in elements:\n",
    "        text.append(elem.text)\n",
    "\n",
    "    text = text[0]\n",
    "    \n",
    "    return text"
   ]
  },
  {
   "cell_type": "code",
   "execution_count": 8,
   "metadata": {
    "ExecuteTime": {
     "end_time": "2021-02-06T16:13:33.916197Z",
     "start_time": "2021-02-06T16:13:33.895222Z"
    }
   },
   "outputs": [],
   "source": [
    "def nb_structure(text, item, tasks, links):\n",
    "    \n",
    "    text = text[text.find(tasks[links.index(item)]):]\n",
    "    title = text[:text.find('\\n')]\n",
    "    definition = text[text.find('chance\\n')+len('chance\\n'):]\n",
    "    results = definition[definition.find('\\n\\n'):]\n",
    "    definition = definition[:definition.find('\\n\\n')]\n",
    "    functions = results[results.find('def '):]\n",
    "    functions = functions[:functions.find('Go')]\n",
    "\n",
    "    results = results[results.find('Expected Run') + len('Expected Run')+1:]\n",
    "    results = results[:results.rfind('OK')]\n",
    "\n",
    "    topic = title[title.find(' > ') + len(' > '):]\n",
    "\n",
    "    try:\n",
    "        inputs = [eval(item[:item.find(')')]) for item in results.split(topic + '(')[1:]]\n",
    "    except:\n",
    "        inputs = ''\n",
    "    try:    \n",
    "        expected = [eval(item.replace(', ',',')[:item.replace(', ',',').find(' ')+1]) for item in results.split(' → ')[1:]]\n",
    "    except:\n",
    "        try:\n",
    "            expected = [eval(item[:item.find('] [')+1]) for item in results.split(' → ')[1:]]\n",
    "        except:\n",
    "            expected = [item[1:item.find(\"' '\")] for item in results.split(' → ')[1:]]\n",
    "    \n",
    "    parameters = functions[functions.find('('):functions.find(')')]\n",
    "\n",
    "    if '],' in parameters:\n",
    "        parameters = parameters.split('],')\n",
    "        params = '('\n",
    "        for i in range(len(parameters)):\n",
    "            params += 'i[' + str(i) + ']'\n",
    "            if i != len(parameters) - 1:\n",
    "                params += ','\n",
    "            else:\n",
    "                params += ')'\n",
    "        params += ')'\n",
    "    elif ',' in parameters:\n",
    "        parameters = parameters.split(',')\n",
    "        params = '('\n",
    "        for i in range(len(parameters)):\n",
    "            params += 'i[' + str(i) + ']'\n",
    "            if i != len(parameters) - 1:\n",
    "                params += ','\n",
    "            else:\n",
    "                params += ')'\n",
    "        params += ')'\n",
    "    elif parameters == '(':\n",
    "        params = '()'\n",
    "    else:\n",
    "        params = '(i))'\n",
    "\n",
    "    body = \"testers = \" + json.dumps(inputs) + \"\"\"\n",
    "\n",
    "expected = \"\"\" + json.dumps(expected) + \"\"\"\n",
    "\n",
    "results =[]\n",
    "\n",
    "for i in testers:\n",
    "    results.append(\"\"\" + str(topic) + params + \"\"\"\n",
    "\n",
    "print(\"The function's returned result is equivalent to the expected result? \" + str(results == expected))\"\"\"\n",
    "\n",
    "    if params == '()':\n",
    "        body = body.replace(\"\"\"results =[]\n",
    "\n",
    "for i in testers:\n",
    "    results.append(\"\"\" + str(topic) + params, \"results = [\" + str(topic) + params + \"]\")\n",
    "\n",
    "    text = \"\"\"\\\n",
    "## \"\"\" + title + '\\n' + definition\n",
    "    \n",
    "    return body.replace('true','True').replace('false','False'), text, functions, title"
   ]
  },
  {
   "cell_type": "code",
   "execution_count": null,
   "metadata": {
    "ExecuteTime": {
     "end_time": "2021-01-04T17:37:39.664149Z",
     "start_time": "2021-01-04T17:36:39.381915Z"
    },
    "scrolled": false
   },
   "outputs": [],
   "source": [
    "page_link = \"https://codingbat.com/python\"\n",
    "\n",
    "driver = opening_url(page_link)\n",
    "\n",
    "credentials(driver)\n",
    "\n",
    "tasks, links = topics_links(driver)\n",
    "\n",
    "zoom_out()\n",
    "\n",
    "for it in links:\n",
    "    \n",
    "    nb = nbf.v4.new_notebook()\n",
    "    \n",
    "    nb['cells'] = []\n",
    "\n",
    "    prob = exercises_links(it)\n",
    "    print(prob)\n",
    "\n",
    "    for i in prob:\n",
    "\n",
    "        text = get_content(i)\n",
    "        \n",
    "        pyautogui.scroll(-11)\n",
    "\n",
    "        body, text, functions, title = nb_structure(text, it, tasks, links)\n",
    "\n",
    "        img = printscreen(title.replace(' > ','_'))\n",
    "        \n",
    "        img = '<img src=\"' + img + '\">'\n",
    "        \n",
    "        nb['cells'] += [nbf.v4.new_markdown_cell(text),\n",
    "                       nbf.v4.new_code_cell(functions), nbf.v4.new_code_cell(body),\n",
    "                       nbf.v4.new_markdown_cell(\"#### A screenshot of the condigbat's execise is shown below:\"), nbf.v4.new_markdown_cell(img)]\n",
    "\n",
    "        \n",
    "    nbf.write(nb, tasks[links.index(it)] + '.ipynb')"
   ]
  }
 ],
 "metadata": {
  "hide_input": false,
  "kernelspec": {
   "display_name": "Python 3",
   "language": "python",
   "name": "python3"
  },
  "language_info": {
   "codemirror_mode": {
    "name": "ipython",
    "version": 3
   },
   "file_extension": ".py",
   "mimetype": "text/x-python",
   "name": "python",
   "nbconvert_exporter": "python",
   "pygments_lexer": "ipython3",
   "version": "3.7.4"
  }
 },
 "nbformat": 4,
 "nbformat_minor": 2
}
