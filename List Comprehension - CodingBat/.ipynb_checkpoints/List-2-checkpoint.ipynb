{
 "cells": [
  {
   "cell_type": "markdown",
   "metadata": {},
   "source": [
    "## List-2 > count_evens\n",
    "Return the number of even ints in the given array. Note: the % \"mod\" operator computes the remainder, e.g. 5 % 2 is 1."
   ]
  },
  {
   "cell_type": "code",
   "execution_count": 1,
   "metadata": {},
   "outputs": [],
   "source": [
    "def count_evens(nums):\n",
    "  return len([True for x in nums if x%2 == 0])\n"
   ]
  },
  {
   "cell_type": "code",
   "execution_count": 2,
   "metadata": {},
   "outputs": [
    {
     "name": "stdout",
     "output_type": "stream",
     "text": [
      "The function's returned result is equivalent to the expected result? True\n"
     ]
    }
   ],
   "source": [
    "testers = [[2, 1, 2, 3, 4], [2, 2, 0], [1, 3, 5], [], [11, 9, 0, 1], [2, 11, 9, 0], [2], [2, 5, 12]]\n",
    "\n",
    "expected = [3, 3, 0, 0, 1, 2, 1, 2]\n",
    "\n",
    "results =[]\n",
    "\n",
    "for i in testers:\n",
    "    results.append(count_evens(i))\n",
    "\n",
    "print(\"The function's returned result is equivalent to the expected result? \" + str(results == expected))"
   ]
  },
  {
   "cell_type": "markdown",
   "metadata": {},
   "source": [
    "## List-2 > big_diff\n",
    "Given an array length 1 or more of ints, return the difference between the largest and smallest values in the array. Note: the built-in min(v1, v2) and max(v1, v2) functions return the smaller or larger of two values."
   ]
  },
  {
   "cell_type": "code",
   "execution_count": 3,
   "metadata": {},
   "outputs": [],
   "source": [
    "def big_diff(nums):\n",
    "  return max(nums) - min(nums)\n"
   ]
  },
  {
   "cell_type": "code",
   "execution_count": 4,
   "metadata": {},
   "outputs": [
    {
     "name": "stdout",
     "output_type": "stream",
     "text": [
      "The function's returned result is equivalent to the expected result? True\n"
     ]
    }
   ],
   "source": [
    "testers = [[10, 3, 5, 6], [7, 2, 10, 9], [2, 10, 7, 2], [2, 10], [10, 2], [10, 0], [2, 3], [2, 2], [2], [5, 1, 6, 1, 9, 9], [7, 6, 8, 5], [7, 7, 6, 8, 5, 5, 6]]\n",
    "\n",
    "expected = [7, 8, 8, 8, 8, 10, 1, 0, 0, 8, 3, 3]\n",
    "\n",
    "results =[]\n",
    "\n",
    "for i in testers:\n",
    "    results.append(big_diff(i))\n",
    "\n",
    "print(\"The function's returned result is equivalent to the expected result? \" + str(results == expected))"
   ]
  },
  {
   "cell_type": "markdown",
   "metadata": {},
   "source": [
    "## List-2 > centered_average\n",
    "Return the \"centered\" average of an array of ints, which we'll say is the mean average of the values, except ignoring the largest and smallest values in the array. If there are multiple copies of the smallest value, ignore just one copy, and likewise for the largest value. Use int division to produce the final average. You may assume that the array is length 3 or more."
   ]
  },
  {
   "cell_type": "code",
   "execution_count": 5,
   "metadata": {},
   "outputs": [],
   "source": [
    "def centered_average(nums):\n",
    "  return int(sum(sorted(nums)[1:-1])/len(sorted(nums)[1:-1]))\n"
   ]
  },
  {
   "cell_type": "code",
   "execution_count": 6,
   "metadata": {},
   "outputs": [
    {
     "name": "stdout",
     "output_type": "stream",
     "text": [
      "The function's returned result is equivalent to the expected result? True\n"
     ]
    }
   ],
   "source": [
    "testers = [[1, 2, 3, 4, 100], [1, 1, 5, 5, 10, 8, 7], [-10, -4, -2, -4, -2, 0], [5, 3, 4, 6, 2], [5, 3, 4, 0, 100], [100, 0, 5, 3, 4], [4, 0, 100], [0, 2, 3, 4, 100], [1, 1, 100], [7, 7, 7], [1, 7, 8], [1, 1, 99, 99], [1000, 0, 1, 99], [4, 4, 4, 4, 5], [4, 4, 4, 1, 5], [6, 4, 8, 12, 3]]\n",
    "\n",
    "expected = [3, 5, -3, 4, 4, 4, 4, 3, 1, 7, 7, 50, 50, 4, 4, 6]\n",
    "\n",
    "results =[]\n",
    "\n",
    "for i in testers:\n",
    "    results.append(centered_average(i))\n",
    "\n",
    "print(\"The function's returned result is equivalent to the expected result? \" + str(results == expected))"
   ]
  },
  {
   "cell_type": "markdown",
   "metadata": {},
   "source": [
    "## List-2 > sum13\n",
    "Return the sum of the numbers in the array, returning 0 for an empty array. Except the number 13 is very unlucky, so it does not count and numbers that come immediately after a 13 also do not count."
   ]
  },
  {
   "cell_type": "code",
   "execution_count": 7,
   "metadata": {},
   "outputs": [],
   "source": [
    "def sum13(nums):\n",
    "  return sum([([0] + nums)[i] for i in range(1,len([0] + nums)) if ([0] + nums)[i] != 13 and ([0] +\n",
    "  nums)[i-1] != 13])\n"
   ]
  },
  {
   "cell_type": "code",
   "execution_count": 8,
   "metadata": {},
   "outputs": [
    {
     "name": "stdout",
     "output_type": "stream",
     "text": [
      "The function's returned result is equivalent to the expected result? True\n"
     ]
    }
   ],
   "source": [
    "testers = [[1, 2, 2, 1], [1, 1], [1, 2, 2, 1, 13], [1, 2, 13, 2, 1, 13], [13, 1, 2, 13, 2, 1, 13], [], [13], [13, 13], [13, 0, 13], [13, 1, 13], [5, 7, 2], [5, 13, 2], [0], [13, 0]]\n",
    "\n",
    "expected = [6, 2, 6, 4, 3, 0, 0, 0, 0, 0, 14, 5, 0, 0]\n",
    "\n",
    "results =[]\n",
    "\n",
    "for i in testers:\n",
    "    results.append(sum13(i))\n",
    "\n",
    "print(\"The function's returned result is equivalent to the expected result? \" + str(results == expected))"
   ]
  },
  {
   "cell_type": "markdown",
   "metadata": {},
   "source": [
    "## List-2 > sum67\n",
    "Return the sum of the numbers in the array, except ignore sections of numbers starting with a 6 and extending to the next 7 (every 6 will be followed by at least one 7). Return 0 for no numbers."
   ]
  },
  {
   "cell_type": "code",
   "execution_count": 9,
   "metadata": {},
   "outputs": [],
   "source": [
    "def sum67(nums):\n",
    "  return sum([int(item) for item in [(' '.join([str(x) for x in nums])).split('6')[0].split(' ') + \n",
    "  ['0'] + [i for item in (' '.join([str(x) for x in nums])).split('6') if '7' in item for i in \n",
    "  item[item.find('7')+1:].split(' ')]][0] if item.isdigit()])\n"
   ]
  },
  {
   "cell_type": "code",
   "execution_count": 10,
   "metadata": {},
   "outputs": [
    {
     "name": "stdout",
     "output_type": "stream",
     "text": [
      "The function's returned result is equivalent to the expected result? True\n"
     ]
    }
   ],
   "source": [
    "testers = [[1, 2, 2], [1, 2, 2, 6, 99, 99, 7], [1, 1, 6, 7, 2], [1, 6, 2, 2, 7, 1, 6, 99, 99, 7], [1, 6, 2, 6, 2, 7, 1, 6, 99, 99, 7], [2, 7, 6, 2, 6, 7, 2, 7], [2, 7, 6, 2, 6, 2, 7], [1, 6, 7, 7], [6, 7, 1, 6, 7, 7], [6, 8, 1, 6, 7], [], [6, 7, 11], [11, 6, 7, 11], [2, 2, 6, 7, 7]]\n",
    "\n",
    "expected = [5, 5, 4, 2, 2, 18, 9, 8, 8, 0, 0, 11, 22, 11]\n",
    "\n",
    "results =[]\n",
    "\n",
    "for i in testers:\n",
    "    results.append(sum67(i))\n",
    "\n",
    "print(\"The function's returned result is equivalent to the expected result? \" + str(results == expected))"
   ]
  },
  {
   "cell_type": "markdown",
   "metadata": {},
   "source": [
    "## List-2 > has22\n",
    "Given an array of ints, return True if the array contains a 2 next to a 2 somewhere."
   ]
  },
  {
   "cell_type": "code",
   "execution_count": 11,
   "metadata": {},
   "outputs": [],
   "source": [
    "def has22(nums):\n",
    "  return True in [True if [([0] + nums)[i],([0] + nums)[i+1]] == [2, 2] else False for i in \n",
    "  range(0,len(nums))]\n"
   ]
  },
  {
   "cell_type": "code",
   "execution_count": 12,
   "metadata": {},
   "outputs": [
    {
     "name": "stdout",
     "output_type": "stream",
     "text": [
      "The function's returned result is equivalent to the expected result? True\n"
     ]
    }
   ],
   "source": [
    "testers = [[1, 2, 2], [1, 2, 1, 2], [2, 1, 2], [2, 2, 1, 2], [1, 3, 2], [1, 3, 2, 2], [2, 3, 2, 2], [4, 2, 4, 2, 2, 5], [1, 2], [2, 2], [2], [], [3, 3, 2, 2], [5, 2, 5, 2]]\n",
    "\n",
    "expected = [True, False, False, True, False, True, True, True, False, True, False, False, True, False]\n",
    "\n",
    "results =[]\n",
    "\n",
    "for i in testers:\n",
    "    results.append(has22(i))\n",
    "\n",
    "print(\"The function's returned result is equivalent to the expected result? \" + str(results == expected))"
   ]
  }
 ],
 "metadata": {
  "kernelspec": {
   "display_name": "Python 3",
   "language": "python",
   "name": "python3"
  },
  "language_info": {
   "codemirror_mode": {
    "name": "ipython",
    "version": 3
   },
   "file_extension": ".py",
   "mimetype": "text/x-python",
   "name": "python",
   "nbconvert_exporter": "python",
   "pygments_lexer": "ipython3",
   "version": "3.7.4"
  }
 },
 "nbformat": 4,
 "nbformat_minor": 2
}
