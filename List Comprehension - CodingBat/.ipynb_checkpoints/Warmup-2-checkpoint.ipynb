{
 "cells": [
  {
   "cell_type": "markdown",
   "metadata": {},
   "source": [
    "## Warmup-2 > string_times\n",
    "Given a string and a non-negative int n, return a larger string that is n copies of the original string."
   ]
  },
  {
   "cell_type": "code",
   "execution_count": 1,
   "metadata": {},
   "outputs": [],
   "source": [
    "def string_times(str, n):\n",
    "  return str*n\n"
   ]
  },
  {
   "cell_type": "code",
   "execution_count": 2,
   "metadata": {},
   "outputs": [
    {
     "name": "stdout",
     "output_type": "stream",
     "text": [
      "The function's returned result is equivalent to the expected result? True\n"
     ]
    }
   ],
   "source": [
    "testers = [[\"Hi\", 2], [\"Hi\", 3], [\"Hi\", 1], [\"Hi\", 0], [\"Hi\", 5], [\"Oh Boy!\", 2], [\"x\", 4], [\"\", 4], [\"code\", 2], [\"code\", 3]]\n",
    "\n",
    "expected = [\"HiHi\", \"HiHiHi\", \"Hi\", \"\", \"HiHiHiHiHi\", \"Oh Boy!Oh Boy!\", \"xxxx\", \"\", \"codecode\", \"codecodecode\"]\n",
    "\n",
    "results =[]\n",
    "\n",
    "for i in testers:\n",
    "    results.append(string_times(i[0],i[1]))\n",
    "\n",
    "print(\"The function's returned result is equivalent to the expected result? \" + str(results == expected))"
   ]
  },
  {
   "cell_type": "markdown",
   "metadata": {},
   "source": [
    "## Warmup-2 > front_times\n",
    "Given a string and a non-negative int n, we'll say that the front of the string is the first 3 chars, or whatever is there if the string is less than length 3. Return n copies of the front;"
   ]
  },
  {
   "cell_type": "code",
   "execution_count": 3,
   "metadata": {},
   "outputs": [],
   "source": [
    "def front_times(str, n):\n",
    "  return [str*n if len(str)<3 else str[0:3]*n][0]\n"
   ]
  },
  {
   "cell_type": "code",
   "execution_count": 4,
   "metadata": {},
   "outputs": [
    {
     "name": "stdout",
     "output_type": "stream",
     "text": [
      "The function's returned result is equivalent to the expected result? True\n"
     ]
    }
   ],
   "source": [
    "testers = [[\"Chocolate\", 2], [\"Chocolate\", 3], [\"Abc\", 3], [\"Ab\", 4], [\"A\", 4], [\"\", 4], [\"Abc\", 0]]\n",
    "\n",
    "expected = [\"ChoCho\", \"ChoChoCho\", \"AbcAbcAbc\", \"AbAbAbAb\", \"AAAA\", \"\", \"\"]\n",
    "\n",
    "results =[]\n",
    "\n",
    "for i in testers:\n",
    "    results.append(front_times(i[0],i[1]))\n",
    "\n",
    "print(\"The function's returned result is equivalent to the expected result? \" + str(results == expected))"
   ]
  },
  {
   "cell_type": "markdown",
   "metadata": {},
   "source": [
    "## Warmup-2 > string_bits\n",
    "Given a string, return a new string made of every other char starting with the first, so \"Hello\" yields \"Hlo\"."
   ]
  },
  {
   "cell_type": "code",
   "execution_count": 5,
   "metadata": {},
   "outputs": [],
   "source": [
    "def string_bits(str):\n",
    "  return str[::2]\n",
    "   "
   ]
  },
  {
   "cell_type": "code",
   "execution_count": 6,
   "metadata": {},
   "outputs": [
    {
     "name": "stdout",
     "output_type": "stream",
     "text": [
      "The function's returned result is equivalent to the expected result? True\n"
     ]
    }
   ],
   "source": [
    "testers = [\"Hello\", \"Hi\", \"Heeololeo\", \"HiHiHi\", \"\", \"Greetings\", \"Chocoate\", \"pi\", \"Hello Kitten\", \"hxaxpxpxy\"]\n",
    "\n",
    "expected = [\"Hlo\", \"H\", \"Hello\", \"HHH\", \"\", \"Getns\", \"Coot\", \"p\", \"HloKte\", \"happy\"]\n",
    "\n",
    "results =[]\n",
    "\n",
    "for i in testers:\n",
    "    results.append(string_bits(i))\n",
    "\n",
    "print(\"The function's returned result is equivalent to the expected result? \" + str(results == expected))"
   ]
  },
  {
   "cell_type": "markdown",
   "metadata": {},
   "source": [
    "## Warmup-2 > string_splosion\n",
    "Given a non-empty string like \"Code\" return a string like \"CCoCodCode\"."
   ]
  },
  {
   "cell_type": "code",
   "execution_count": 7,
   "metadata": {},
   "outputs": [],
   "source": [
    "def string_splosion(str):\n",
    "  return ''.join([str[:i] for i in range(1,len(str)+1)])\n"
   ]
  },
  {
   "cell_type": "code",
   "execution_count": 8,
   "metadata": {},
   "outputs": [
    {
     "name": "stdout",
     "output_type": "stream",
     "text": [
      "The function's returned result is equivalent to the expected result? True\n"
     ]
    }
   ],
   "source": [
    "testers = [\"Code\", \"abc\", \"ab\", \"x\", \"fade\", \"There\", \"Kitten\", \"Bye\", \"Good\", \"Bad\"]\n",
    "\n",
    "expected = [\"CCoCodCode\", \"aababc\", \"aab\", \"x\", \"ffafadfade\", \"TThTheTherThere\", \"KKiKitKittKitteKitten\", \"BByBye\", \"GGoGooGood\", \"BBaBad\"]\n",
    "\n",
    "results =[]\n",
    "\n",
    "for i in testers:\n",
    "    results.append(string_splosion(i))\n",
    "\n",
    "print(\"The function's returned result is equivalent to the expected result? \" + str(results == expected))"
   ]
  },
  {
   "cell_type": "markdown",
   "metadata": {},
   "source": [
    "## Warmup-2 > last2\n",
    "Given a string, return the count of the number of times that a substring length 2 appears in the string and also as the last 2 chars of the string, so \"hixxxhi\" yields 1 (we won't count the end substring)."
   ]
  },
  {
   "cell_type": "code",
   "execution_count": 9,
   "metadata": {},
   "outputs": [],
   "source": [
    "def last2(str):\n",
    "  return len([str[i:i+2] for i in range(len(str[:-2])) if str[i:i+2]==str[-2:]])\n"
   ]
  },
  {
   "cell_type": "code",
   "execution_count": 10,
   "metadata": {},
   "outputs": [
    {
     "name": "stdout",
     "output_type": "stream",
     "text": [
      "The function's returned result is equivalent to the expected result? True\n"
     ]
    }
   ],
   "source": [
    "testers = [\"hixxhi\", \"xaxxaxaxx\", \"axxxaaxx\", \"xxaxxaxxaxx\", \"xaxaxaxx\", \"xxxx\", \"13121312\", \"11212\", \"13121311\", \"1717171\", \"hi\", \"h\", \"\"]\n",
    "\n",
    "expected = [1, 1, 2, 3, 0, 2, 1, 1, 0, 2, 0, 0, 0]\n",
    "\n",
    "results =[]\n",
    "\n",
    "for i in testers:\n",
    "    results.append(last2(i))\n",
    "\n",
    "print(\"The function's returned result is equivalent to the expected result? \" + str(results == expected))"
   ]
  },
  {
   "cell_type": "markdown",
   "metadata": {},
   "source": [
    "## Warmup-2 > array_count9\n",
    "Given an array of ints, return the number of 9's in the array."
   ]
  },
  {
   "cell_type": "code",
   "execution_count": 11,
   "metadata": {},
   "outputs": [],
   "source": [
    "def array_count9(nums):\n",
    "  return len([el for el in nums if el == 9])\n"
   ]
  },
  {
   "cell_type": "code",
   "execution_count": 12,
   "metadata": {},
   "outputs": [
    {
     "name": "stdout",
     "output_type": "stream",
     "text": [
      "The function's returned result is equivalent to the expected result? True\n"
     ]
    }
   ],
   "source": [
    "testers = [[1, 2, 9], [1, 9, 9], [1, 9, 9, 3, 9], [1, 2, 3], [], [4, 2, 4, 3, 1], [9, 2, 4, 3, 1]]\n",
    "\n",
    "expected = [1, 2, 3, 0, 0, 0, 1]\n",
    "\n",
    "results =[]\n",
    "\n",
    "for i in testers:\n",
    "    results.append(array_count9(i))\n",
    "\n",
    "print(\"The function's returned result is equivalent to the expected result? \" + str(results == expected))"
   ]
  },
  {
   "cell_type": "markdown",
   "metadata": {},
   "source": [
    "## Warmup-2 > array_front9\n",
    "Given an array of ints, return True if one of the first 4 elements in the array is a 9. The array length may be less than 4."
   ]
  },
  {
   "cell_type": "code",
   "execution_count": 13,
   "metadata": {},
   "outputs": [],
   "source": [
    "def array_front9(nums):\n",
    "  return [True if 9 in nums[:4] else False][0]\n"
   ]
  },
  {
   "cell_type": "code",
   "execution_count": 14,
   "metadata": {},
   "outputs": [
    {
     "name": "stdout",
     "output_type": "stream",
     "text": [
      "The function's returned result is equivalent to the expected result? True\n"
     ]
    }
   ],
   "source": [
    "testers = [[1, 2, 9, 3, 4], [1, 2, 3, 4, 9], [1, 2, 3, 4, 5], [9, 2, 3], [1, 9, 9], [1, 2, 3], [1, 9], [5, 5], [2], [9], [], [3, 9, 2, 3, 3]]\n",
    "\n",
    "expected = [True, False, False, True, True, False, True, False, False, True, False, True]\n",
    "\n",
    "results =[]\n",
    "\n",
    "for i in testers:\n",
    "    results.append(array_front9(i))\n",
    "\n",
    "print(\"The function's returned result is equivalent to the expected result? \" + str(results == expected))"
   ]
  },
  {
   "cell_type": "markdown",
   "metadata": {},
   "source": [
    "## Warmup-2 > array123\n",
    "Given an array of ints, return True if the sequence of numbers 1, 2, 3 appears in the array somewhere."
   ]
  },
  {
   "cell_type": "code",
   "execution_count": 15,
   "metadata": {},
   "outputs": [],
   "source": [
    "def array123(nums):\n",
    "  return [1,2,3] == sorted(list(set(nums)))[:3]\n"
   ]
  },
  {
   "cell_type": "code",
   "execution_count": 16,
   "metadata": {},
   "outputs": [
    {
     "name": "stdout",
     "output_type": "stream",
     "text": [
      "The function's returned result is equivalent to the expected result? True\n"
     ]
    }
   ],
   "source": [
    "testers = [[1, 1, 2, 3, 1], [1, 1, 2, 4, 1], [1, 1, 2, 1, 2, 3], [1, 1, 2, 1, 2, 1], [1, 2, 3, 1, 2, 3], [1, 2, 3], [1, 1, 1], [1, 2], [1], []]\n",
    "\n",
    "expected = [True, False, True, False, True, True, False, False, False, False]\n",
    "\n",
    "results =[]\n",
    "\n",
    "for i in testers:\n",
    "    results.append(array123(i))\n",
    "\n",
    "print(\"The function's returned result is equivalent to the expected result? \" + str(results == expected))"
   ]
  },
  {
   "cell_type": "markdown",
   "metadata": {},
   "source": [
    "## Warmup-2 > string_match\n",
    "Given 2 strings, a and b, return the number of the positions where they contain the same length 2 substring. So \"xxcaazz\" and \"xxbaaz\" yields 3, since the \"xx\", \"aa\", and \"az\" substrings appear in the same place in both strings."
   ]
  },
  {
   "cell_type": "code",
   "execution_count": 17,
   "metadata": {},
   "outputs": [],
   "source": [
    "def string_match(a, b):\n",
    "  return len([True for j in range(len([sorted([a,b], key = len)[0][i : i + 2] for i in \n",
    "  range(len(sorted([a,b], key = len)[0])-1)])) if [sorted([a,b], key = len)[0][i : i + 2] \n",
    "  for i in range(len(sorted([a,b], key = len)[0])-1)][j] == [sorted([a,b], key = len)[1][i : i + 2] \n",
    "  for i in range(len(sorted([a,b], key = len)[0])-1)][j]])\n"
   ]
  },
  {
   "cell_type": "code",
   "execution_count": 18,
   "metadata": {},
   "outputs": [
    {
     "name": "stdout",
     "output_type": "stream",
     "text": [
      "The function's returned result is equivalent to the expected result? True\n"
     ]
    }
   ],
   "source": [
    "testers = [[\"xxcaazz\", \"xxbaaz\"], [\"abc\", \"abc\"], [\"abc\", \"axc\"], [\"hello\", \"he\"], [\"he\", \"hello\"], [\"h\", \"hello\"], [\"\", \"hello\"], [\"aabbccdd\", \"abbbxxd\"], [\"aaxxaaxx\", \"iaxxai\"], [\"iaxxai\", \"aaxxaaxx\"]]\n",
    "\n",
    "expected = [3, 2, 0, 1, 1, 0, 0, 1, 3, 3]\n",
    "\n",
    "results =[]\n",
    "\n",
    "for i in testers:\n",
    "    results.append(string_match(i[0],i[1]))\n",
    "\n",
    "print(\"The function's returned result is equivalent to the expected result? \" + str(results == expected))"
   ]
  }
 ],
 "metadata": {
  "kernelspec": {
   "display_name": "Python 3",
   "language": "python",
   "name": "python3"
  },
  "language_info": {
   "codemirror_mode": {
    "name": "ipython",
    "version": 3
   },
   "file_extension": ".py",
   "mimetype": "text/x-python",
   "name": "python",
   "nbconvert_exporter": "python",
   "pygments_lexer": "ipython3",
   "version": "3.7.4"
  }
 },
 "nbformat": 4,
 "nbformat_minor": 2
}
