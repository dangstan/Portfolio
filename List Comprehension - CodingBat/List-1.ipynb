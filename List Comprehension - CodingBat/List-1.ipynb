{
 "cells": [
  {
   "cell_type": "markdown",
   "metadata": {},
   "source": [
    "## List-1 > first_last6\n",
    "Given an array of ints, return True if 6 appears as either the first or last element in the array. The array will be length 1 or more."
   ]
  },
  {
   "cell_type": "code",
   "execution_count": 30,
   "metadata": {},
   "outputs": [],
   "source": [
    "def first_last6(nums):\n",
    "  return [True if 6 in [nums[0],nums[-1]] else False][0]\n"
   ]
  },
  {
   "cell_type": "code",
   "execution_count": 31,
   "metadata": {},
   "outputs": [
    {
     "name": "stdout",
     "output_type": "stream",
     "text": [
      "The function's returned result is equivalent to the expected result? True\n"
     ]
    }
   ],
   "source": [
    "testers = [[1, 2, 6], [6, 1, 2, 3], [13, 6, 1, 2, 3], [13, 6, 1, 2, 6], [3, 2, 1], [3, 6, 1], [3, 6], [6], [3], [5, 6], [5, 5], [1, 2, 3, 4, 6], [1, 2, 3, 4]]\n",
    "\n",
    "expected = [True, True, False, True, False, False, True, True, False, True, False, True, False]\n",
    "\n",
    "results =[]\n",
    "\n",
    "for i in testers:\n",
    "    results.append(first_last6(i))\n",
    "\n",
    "print(\"The function's returned result is equivalent to the expected result? \" + str(results == expected))"
   ]
  },
  {
   "cell_type": "markdown",
   "metadata": {},
   "source": [
    "## List-1 > same_first_last\n",
    "Given an array of ints, return True if the array is length 1 or more, and the first element and the last element are equal."
   ]
  },
  {
   "cell_type": "code",
   "execution_count": 32,
   "metadata": {},
   "outputs": [],
   "source": [
    "def same_first_last(nums):\n",
    "  return (len(nums)>0 and nums[0] == nums[-1])\n"
   ]
  },
  {
   "cell_type": "code",
   "execution_count": 33,
   "metadata": {},
   "outputs": [
    {
     "name": "stdout",
     "output_type": "stream",
     "text": [
      "The function's returned result is equivalent to the expected result? True\n"
     ]
    }
   ],
   "source": [
    "testers = [[1, 2, 3], [1, 2, 3, 1], [1, 2, 1], [7], [], [1, 2, 3, 4, 5, 1], [1, 2, 3, 4, 5, 13], [13, 2, 3, 4, 5, 13], [7, 7]]\n",
    "\n",
    "expected = [False, True, True, True, False, True, False, True, True]\n",
    "\n",
    "results =[]\n",
    "\n",
    "for i in testers:\n",
    "    results.append(same_first_last(i))\n",
    "\n",
    "print(\"The function's returned result is equivalent to the expected result? \" + str(results == expected))"
   ]
  },
  {
   "cell_type": "markdown",
   "metadata": {},
   "source": [
    "## List-1 > make_pi\n",
    "Return an int array length 3 containing the first 3 digits of pi, {3, 1, 4}."
   ]
  },
  {
   "cell_type": "code",
   "execution_count": 34,
   "metadata": {},
   "outputs": [],
   "source": [
    "def make_pi():\n",
    "  return [3,1,4]\n"
   ]
  },
  {
   "cell_type": "code",
   "execution_count": 35,
   "metadata": {},
   "outputs": [
    {
     "ename": "SyntaxError",
     "evalue": "invalid syntax (<ipython-input-35-de9e9cc45d56>, line 10)",
     "output_type": "error",
     "traceback": [
      "\u001b[1;36m  File \u001b[1;32m\"<ipython-input-35-de9e9cc45d56>\"\u001b[1;36m, line \u001b[1;32m10\u001b[0m\n\u001b[1;33m    print(\"The function's returned result is equivalent to the expected result? \" + str(results == expected))\u001b[0m\n\u001b[1;37m        ^\u001b[0m\n\u001b[1;31mSyntaxError\u001b[0m\u001b[1;31m:\u001b[0m invalid syntax\n"
     ]
    }
   ],
   "source": [
    "testers = \"\"\n",
    "\n",
    "expected = [[3, 1, 4]]\n",
    "\n",
    "results =[]\n",
    "\n",
    "for i in testers:\n",
    "    results.append(make_pi()\n",
    "\n",
    "print(\"The function's returned result is equivalent to the expected result? \" + str(results == expected))"
   ]
  },
  {
   "cell_type": "markdown",
   "metadata": {},
   "source": [
    "## List-1 > common_end\n",
    "Given 2 arrays of ints, a and b, return True if they have the same first element or they have the same last element. Both arrays will be length 1 or more."
   ]
  },
  {
   "cell_type": "code",
   "execution_count": null,
   "metadata": {},
   "outputs": [],
   "source": [
    "def common_end(a, b):\n",
    "  return (len(a)>0 and len(b)>0 and (a[0] == b[0] or a[-1] == b[-1])) \n"
   ]
  },
  {
   "cell_type": "code",
   "execution_count": null,
   "metadata": {},
   "outputs": [],
   "source": [
    "testers = [[[1, 2, 3], [7, 3]], [[1, 2, 3], [7, 3, 2]], [[1, 2, 3], [1, 3]], [[1, 2, 3], [1]], [[1, 2, 3], [2]]]\n",
    "\n",
    "expected = [True, False, True, True, False]\n",
    "\n",
    "results =[]\n",
    "\n",
    "for i in testers:\n",
    "    results.append(common_end(i[0],i[1]))\n",
    "\n",
    "print(\"The function's returned result is equivalent to the expected result? \" + str(results == expected))"
   ]
  },
  {
   "cell_type": "markdown",
   "metadata": {},
   "source": [
    "## List-1 > sum3\n",
    "Given an array of ints length 3, return the sum of all the elements."
   ]
  },
  {
   "cell_type": "code",
   "execution_count": null,
   "metadata": {},
   "outputs": [],
   "source": [
    "def sum3(nums):\n",
    "  return sum(nums)\n"
   ]
  },
  {
   "cell_type": "code",
   "execution_count": null,
   "metadata": {},
   "outputs": [],
   "source": [
    "testers = [[1, 2, 3], [5, 11, 2], [7, 0, 0], [1, 2, 1], [1, 1, 1], [2, 7, 2]]\n",
    "\n",
    "expected = [6, 18, 7, 4, 3, 11]\n",
    "\n",
    "results =[]\n",
    "\n",
    "for i in testers:\n",
    "    results.append(sum3(i))\n",
    "\n",
    "print(\"The function's returned result is equivalent to the expected result? \" + str(results == expected))"
   ]
  },
  {
   "cell_type": "markdown",
   "metadata": {},
   "source": [
    "## List-1 > rotate_left3\n",
    "Given an array of ints length 3, return an array with the elements \"rotated left\" so {1, 2, 3} yields {2, 3, 1}."
   ]
  },
  {
   "cell_type": "code",
   "execution_count": null,
   "metadata": {},
   "outputs": [],
   "source": [
    "def rotate_left3(nums):\n",
    "  return nums[1:] + [nums[0]]\n"
   ]
  },
  {
   "cell_type": "code",
   "execution_count": null,
   "metadata": {},
   "outputs": [],
   "source": [
    "testers = [[1, 2, 3], [5, 11, 9], [7, 0, 0], [1, 2, 1], [0, 0, 1]]\n",
    "\n",
    "expected = [[2, 3, 1], [11, 9, 5], [0, 0, 7], [2, 1, 1], [0, 1, 0]]\n",
    "\n",
    "results =[]\n",
    "\n",
    "for i in testers:\n",
    "    results.append(rotate_left3(i))\n",
    "\n",
    "print(\"The function's returned result is equivalent to the expected result? \" + str(results == expected))"
   ]
  },
  {
   "cell_type": "markdown",
   "metadata": {},
   "source": [
    "## List-1 > reverse3\n",
    "Given an array of ints length 3, return a new array with the elements in reverse order, so {1, 2, 3} becomes {3, 2, 1}."
   ]
  },
  {
   "cell_type": "code",
   "execution_count": null,
   "metadata": {},
   "outputs": [],
   "source": [
    "def reverse3(nums):\n",
    "  return nums[::-1]\n"
   ]
  },
  {
   "cell_type": "code",
   "execution_count": null,
   "metadata": {},
   "outputs": [],
   "source": [
    "testers = [[1, 2, 3], [5, 11, 9], [7, 0, 0], [2, 1, 2], [1, 2, 1], [2, 11, 3], [0, 6, 5], [7, 2, 3]]\n",
    "\n",
    "expected = [[3, 2, 1], [9, 11, 5], [0, 0, 7], [2, 1, 2], [1, 2, 1], [3, 11, 2], [5, 6, 0], [3, 2, 7]]\n",
    "\n",
    "results =[]\n",
    "\n",
    "for i in testers:\n",
    "    results.append(reverse3(i))\n",
    "\n",
    "print(\"The function's returned result is equivalent to the expected result? \" + str(results == expected))"
   ]
  },
  {
   "cell_type": "markdown",
   "metadata": {},
   "source": [
    "## List-1 > max_end3\n",
    "Given an array of ints length 3, figure out which is larger, the first or last element in the array, and set all the other elements to be that value. Return the changed array."
   ]
  },
  {
   "cell_type": "code",
   "execution_count": null,
   "metadata": {},
   "outputs": [],
   "source": [
    "def max_end3(nums):\n",
    "  return [max([nums[0],nums[-1]])]*len(nums)\n"
   ]
  },
  {
   "cell_type": "code",
   "execution_count": null,
   "metadata": {},
   "outputs": [],
   "source": [
    "testers = [[1, 2, 3], [11, 5, 9], [2, 11, 3], [11, 3, 3], [3, 11, 11], [2, 2, 2], [2, 11, 2], [0, 0, 1]]\n",
    "\n",
    "expected = [[3, 3, 3], [11, 11, 11], [3, 3, 3], [11, 11, 11], [11, 11, 11], [2, 2, 2], [2, 2, 2], [1, 1, 1]]\n",
    "\n",
    "results =[]\n",
    "\n",
    "for i in testers:\n",
    "    results.append(max_end3(i))\n",
    "\n",
    "print(\"The function's returned result is equivalent to the expected result? \" + str(results == expected))"
   ]
  },
  {
   "cell_type": "markdown",
   "metadata": {},
   "source": [
    "## List-1 > sum2\n",
    "Given an array of ints, return the sum of the first 2 elements in the array. If the array length is less than 2, just sum up the elements that exist, returning 0 if the array is length 0."
   ]
  },
  {
   "cell_type": "code",
   "execution_count": 36,
   "metadata": {},
   "outputs": [],
   "source": [
    "def sum2(nums):\n",
    "  return sum(nums[:1] + nums[1:2])\n"
   ]
  },
  {
   "cell_type": "code",
   "execution_count": 37,
   "metadata": {},
   "outputs": [
    {
     "name": "stdout",
     "output_type": "stream",
     "text": [
      "The function's returned result is equivalent to the expected result? True\n"
     ]
    }
   ],
   "source": [
    "testers = [[1, 2, 3], [1, 1], [1, 1, 1, 1], [1, 2], [1], [], [4, 5, 6], [4]]\n",
    "\n",
    "expected = [3, 2, 2, 3, 1, 0, 9, 4]\n",
    "\n",
    "results =[]\n",
    "\n",
    "for i in testers:\n",
    "    results.append(sum2(i))\n",
    "\n",
    "print(\"The function's returned result is equivalent to the expected result? \" + str(results == expected))"
   ]
  },
  {
   "cell_type": "markdown",
   "metadata": {},
   "source": [
    "## List-1 > middle_way\n",
    "Given 2 int arrays, a and b, each length 3, return a new array length 2 containing their middle elements."
   ]
  },
  {
   "cell_type": "code",
   "execution_count": 38,
   "metadata": {},
   "outputs": [],
   "source": [
    "def middle_way(a, b):\n",
    "  return a[1:-1] + b[1:-1]\n"
   ]
  },
  {
   "cell_type": "code",
   "execution_count": 39,
   "metadata": {},
   "outputs": [
    {
     "name": "stdout",
     "output_type": "stream",
     "text": [
      "The function's returned result is equivalent to the expected result? True\n"
     ]
    }
   ],
   "source": [
    "testers = [[[1, 2, 3], [4, 5, 6]], [[7, 7, 7], [3, 8, 0]], [[5, 2, 9], [1, 4, 5]], [[1, 9, 7], [4, 8, 8]], [[1, 2, 3], [3, 1, 4]], [[1, 2, 3], [4, 1, 1]]]\n",
    "\n",
    "expected = [[2, 5], [7, 8], [2, 4], [9, 8], [2, 1], [2, 1]]\n",
    "\n",
    "results =[]\n",
    "\n",
    "for i in testers:\n",
    "    results.append(middle_way(i[0],i[1]))\n",
    "\n",
    "print(\"The function's returned result is equivalent to the expected result? \" + str(results == expected))"
   ]
  },
  {
   "cell_type": "markdown",
   "metadata": {},
   "source": [
    "## List-1 > make_ends\n",
    "Given an array of ints, return a new array length 2 containing the first and last elements from the original array. The original array will be length 1 or more."
   ]
  },
  {
   "cell_type": "code",
   "execution_count": 40,
   "metadata": {},
   "outputs": [],
   "source": [
    "def make_ends(nums):\n",
    "  return [nums[0],nums[-1]]\n"
   ]
  },
  {
   "cell_type": "code",
   "execution_count": 41,
   "metadata": {},
   "outputs": [
    {
     "name": "stdout",
     "output_type": "stream",
     "text": [
      "The function's returned result is equivalent to the expected result? True\n"
     ]
    }
   ],
   "source": [
    "testers = [[1, 2, 3], [1, 2, 3, 4], [7, 4, 6, 2], [1, 2, 2, 2, 2, 2, 2, 3], [7, 4], [7], [5, 2, 9], [2, 3, 4, 1]]\n",
    "\n",
    "expected = [[1, 3], [1, 4], [7, 2], [1, 3], [7, 4], [7, 7], [5, 9], [2, 1]]\n",
    "\n",
    "results =[]\n",
    "\n",
    "for i in testers:\n",
    "    results.append(make_ends(i))\n",
    "\n",
    "print(\"The function's returned result is equivalent to the expected result? \" + str(results == expected))"
   ]
  },
  {
   "cell_type": "markdown",
   "metadata": {},
   "source": [
    "## List-1 > has23\n",
    "Given an int array length 2, return True if it contains a 2 or a 3."
   ]
  },
  {
   "cell_type": "code",
   "execution_count": 42,
   "metadata": {},
   "outputs": [],
   "source": [
    "def has23(nums):\n",
    "  return (2 in nums or 3 in nums) \n"
   ]
  },
  {
   "cell_type": "code",
   "execution_count": 43,
   "metadata": {},
   "outputs": [
    {
     "name": "stdout",
     "output_type": "stream",
     "text": [
      "The function's returned result is equivalent to the expected result? True\n"
     ]
    }
   ],
   "source": [
    "testers = [[2, 5], [4, 3], [4, 5], [2, 2], [3, 2], [3, 3], [7, 7], [3, 9], [9, 5]]\n",
    "\n",
    "expected = [True, True, False, True, True, True, False, True, False]\n",
    "\n",
    "results =[]\n",
    "\n",
    "for i in testers:\n",
    "    results.append(has23(i))\n",
    "\n",
    "print(\"The function's returned result is equivalent to the expected result? \" + str(results == expected))"
   ]
  }
 ],
 "metadata": {
  "kernelspec": {
   "display_name": "Python 3",
   "language": "python",
   "name": "python3"
  },
  "language_info": {
   "codemirror_mode": {
    "name": "ipython",
    "version": 3
   },
   "file_extension": ".py",
   "mimetype": "text/x-python",
   "name": "python",
   "nbconvert_exporter": "python",
   "pygments_lexer": "ipython3",
   "version": "3.7.4"
  }
 },
 "nbformat": 4,
 "nbformat_minor": 2
}
