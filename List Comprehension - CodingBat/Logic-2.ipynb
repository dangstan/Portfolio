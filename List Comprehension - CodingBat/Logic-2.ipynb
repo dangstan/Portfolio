{
 "cells": [
  {
   "cell_type": "markdown",
   "metadata": {},
   "source": [
    "## Logic-2 > make_bricks\n",
    "We want to make a row of bricks that is goal inches long. We have a number of small bricks (1 inch each) and big bricks (5 inches each). Return True if it is possible to make the goal by choosing from the given bricks. This is a little harder than it looks and can be done without any loops. See also: Introduction to MakeBricks"
   ]
  },
  {
   "cell_type": "code",
   "execution_count": 1,
   "metadata": {},
   "outputs": [],
   "source": [
    "def make_bricks(small, big, goal):\n",
    "  return [False if goal > big*5 + small or goal % 5 > small else True][0]\n"
   ]
  },
  {
   "cell_type": "code",
   "execution_count": 2,
   "metadata": {},
   "outputs": [
    {
     "name": "stdout",
     "output_type": "stream",
     "text": [
      "The function's returned result is equivalent to the expected result? True\n"
     ]
    }
   ],
   "source": [
    "testers = [[3, 1, 8], [3, 1, 9], [3, 2, 10], [3, 2, 8], [3, 2, 9], [6, 1, 11], [6, 0, 11], [1, 4, 11], [0, 3, 10], [1, 4, 12], [3, 1, 7], [1, 1, 7], [2, 1, 7], [7, 1, 11], [7, 1, 8], [7, 1, 13], [43, 1, 46], [40, 1, 46], [40, 2, 47], [40, 2, 50], [40, 2, 52], [22, 2, 33], [0, 2, 10], [1000000, 1000, 1000100], [2, 1000000, 100003], [20, 0, 19], [20, 0, 21], [20, 4, 51], [20, 4, 39]]\n",
    "\n",
    "expected = [True, False, True, True, False, True, False, True, True, False, True, False, True, True, True, False, True, False, True, True, False, False, True, True, False, True, False, False, True]\n",
    "\n",
    "results =[]\n",
    "\n",
    "for i in testers:\n",
    "    results.append(make_bricks(i[0],i[1],i[2]))\n",
    "\n",
    "print(\"The function's returned result is equivalent to the expected result? \" + str(results == expected))"
   ]
  },
  {
   "cell_type": "markdown",
   "metadata": {},
   "source": [
    "#### A screenshot of the condigbat's execise is shown below:"
   ]
  },
  {
   "cell_type": "markdown",
   "metadata": {},
   "source": [
    "<img src=\"Logic-2_make_bricks.png\">"
   ]
  },
  {
   "cell_type": "markdown",
   "metadata": {},
   "source": [
    "## Logic-2 > lone_sum\n",
    "Given 3 int values, a b c, return their sum. However, if one of the values is the same as another of the values, it does not count towards the sum."
   ]
  },
  {
   "cell_type": "code",
   "execution_count": 3,
   "metadata": {},
   "outputs": [],
   "source": [
    "def lone_sum(a, b, c):\n",
    "  return sum([x for x in [a,b,c] if [a,b,c].count(x)==1])\n"
   ]
  },
  {
   "cell_type": "code",
   "execution_count": 4,
   "metadata": {},
   "outputs": [
    {
     "name": "stdout",
     "output_type": "stream",
     "text": [
      "The function's returned result is equivalent to the expected result? True\n"
     ]
    }
   ],
   "source": [
    "testers = [[1, 2, 3], [3, 2, 3], [3, 3, 3], [9, 2, 2], [2, 2, 9], [2, 9, 2], [2, 9, 3], [4, 2, 3], [1, 3, 1]]\n",
    "\n",
    "expected = [6, 2, 0, 9, 9, 9, 14, 9, 3]\n",
    "\n",
    "results =[]\n",
    "\n",
    "for i in testers:\n",
    "    results.append(lone_sum(i[0],i[1],i[2]))\n",
    "\n",
    "print(\"The function's returned result is equivalent to the expected result? \" + str(results == expected))"
   ]
  },
  {
   "cell_type": "markdown",
   "metadata": {},
   "source": [
    "#### A screenshot of the condigbat's execise is shown below:"
   ]
  },
  {
   "cell_type": "markdown",
   "metadata": {},
   "source": [
    "<img src=\"Logic-2_lone_sum.png\">"
   ]
  },
  {
   "cell_type": "markdown",
   "metadata": {},
   "source": [
    "## Logic-2 > lucky_sum\n",
    "Given 3 int values, a b c, return their sum. However, if one of the values is 13 then it does not count towards the sum and values to its right do not count. So for example, if b is 13, then both b and c do not count."
   ]
  },
  {
   "cell_type": "code",
   "execution_count": 5,
   "metadata": {},
   "outputs": [],
   "source": [
    "def lucky_sum(a, b, c):\n",
    "  return sum([a,b,c][:[a,b,c].index(13)] if 13 in [a,b,c] else [a,b,c])\n"
   ]
  },
  {
   "cell_type": "code",
   "execution_count": 6,
   "metadata": {},
   "outputs": [
    {
     "name": "stdout",
     "output_type": "stream",
     "text": [
      "The function's returned result is equivalent to the expected result? True\n"
     ]
    }
   ],
   "source": [
    "testers = [[1, 2, 3], [1, 2, 13], [1, 13, 3], [1, 13, 13], [6, 5, 2], [13, 2, 3], [13, 2, 13], [13, 13, 2], [9, 4, 13], [8, 13, 2], [7, 2, 1], [3, 3, 13]]\n",
    "\n",
    "expected = [6, 3, 1, 1, 13, 0, 0, 0, 13, 8, 10, 6]\n",
    "\n",
    "results =[]\n",
    "\n",
    "for i in testers:\n",
    "    results.append(lucky_sum(i[0],i[1],i[2]))\n",
    "\n",
    "print(\"The function's returned result is equivalent to the expected result? \" + str(results == expected))"
   ]
  },
  {
   "cell_type": "markdown",
   "metadata": {},
   "source": [
    "#### A screenshot of the condigbat's execise is shown below:"
   ]
  },
  {
   "cell_type": "markdown",
   "metadata": {},
   "source": [
    "<img src=\"Logic-2_lucky_sum.png\">"
   ]
  },
  {
   "cell_type": "markdown",
   "metadata": {},
   "source": [
    "## Logic-2 > no_teen_sum\n",
    "Given 3 int values, a b c, return their sum. However, if any of the values is a teen -- in the range 13..19 inclusive -- then that value counts as 0, except 15 and 16 do not count as a teens. Write a separate helper \"def fix_teen(n):\"that takes in an int value and returns that value fixed for the teen rule. In this way, you avoid repeating the teen code 3 times (i.e. \"decomposition\"). Define the helper below and at the same indent level as the main no_teen_sum()."
   ]
  },
  {
   "cell_type": "code",
   "execution_count": 7,
   "metadata": {},
   "outputs": [],
   "source": [
    "def no_teen_sum(a, b, c):\n",
    "  return sum([y for y in [a,b,c] if y not in [13,14,17,18,19]])\n"
   ]
  },
  {
   "cell_type": "code",
   "execution_count": 8,
   "metadata": {},
   "outputs": [
    {
     "name": "stdout",
     "output_type": "stream",
     "text": [
      "The function's returned result is equivalent to the expected result? True\n"
     ]
    }
   ],
   "source": [
    "testers = [[1, 2, 3], [2, 13, 1], [2, 1, 14], [2, 1, 15], [2, 1, 16], [2, 1, 17], [17, 1, 2], [2, 15, 2], [16, 17, 18], [17, 18, 19], [15, 16, 1], [15, 15, 19], [15, 19, 16], [5, 17, 18], [17, 18, 16], [17, 19, 18]]\n",
    "\n",
    "expected = [6, 3, 3, 18, 19, 3, 3, 19, 16, 0, 32, 30, 31, 5, 16, 0]\n",
    "\n",
    "results =[]\n",
    "\n",
    "for i in testers:\n",
    "    results.append(no_teen_sum(i[0],i[1],i[2]))\n",
    "\n",
    "print(\"The function's returned result is equivalent to the expected result? \" + str(results == expected))"
   ]
  },
  {
   "cell_type": "markdown",
   "metadata": {},
   "source": [
    "#### A screenshot of the condigbat's execise is shown below:"
   ]
  },
  {
   "cell_type": "markdown",
   "metadata": {},
   "source": [
    "<img src=\"Logic-2_no_teen_sum.png\">"
   ]
  },
  {
   "cell_type": "markdown",
   "metadata": {},
   "source": [
    "## Logic-2 > round_sum\n",
    "For this problem, we'll round an int value up to the next multiple of 10 if its rightmost digit is 5 or more, so 15 rounds up to 20. Alternately, round down to the previous multiple of 10 if its rightmost digit is less than 5, so 12 rounds down to 10. Given 3 ints, a b c, return the sum of their rounded values. To avoid code repetition, write a separate helper \"def round10(num):\" and call it 3 times. Write the helper entirely below and at the same indent level as round_sum()."
   ]
  },
  {
   "cell_type": "code",
   "execution_count": 9,
   "metadata": {},
   "outputs": [],
   "source": [
    "def round_sum(a, b, c):\n",
    "  return sum([int(round(round(((a+0.1)/10)))*10),int(round(round(((b+0.1)/10)))*10), \\\n",
    "  int(round(round(((c+.1)/10)))*10)])\n"
   ]
  },
  {
   "cell_type": "code",
   "execution_count": 10,
   "metadata": {},
   "outputs": [
    {
     "name": "stdout",
     "output_type": "stream",
     "text": [
      "The function's returned result is equivalent to the expected result? True\n"
     ]
    }
   ],
   "source": [
    "testers = [[16, 17, 18], [12, 13, 14], [6, 4, 4], [4, 6, 5], [4, 4, 6], [9, 4, 4], [0, 0, 1], [0, 9, 0], [10, 10, 19], [20, 30, 40], [45, 21, 30], [23, 11, 26], [23, 24, 25], [25, 24, 25], [23, 24, 29], [11, 24, 36], [24, 36, 32], [14, 12, 26], [12, 10, 24]]\n",
    "\n",
    "expected = [60, 30, 10, 20, 10, 10, 0, 10, 40, 90, 100, 60, 70, 80, 70, 70, 90, 50, 40]\n",
    "\n",
    "results =[]\n",
    "\n",
    "for i in testers:\n",
    "    results.append(round_sum(i[0],i[1],i[2]))\n",
    "\n",
    "print(\"The function's returned result is equivalent to the expected result? \" + str(results == expected))"
   ]
  },
  {
   "cell_type": "markdown",
   "metadata": {},
   "source": [
    "#### A screenshot of the condigbat's execise is shown below:"
   ]
  },
  {
   "cell_type": "markdown",
   "metadata": {},
   "source": [
    "<img src=\"Logic-2_round_sum.png\">"
   ]
  },
  {
   "cell_type": "markdown",
   "metadata": {},
   "source": [
    "## Logic-2 > close_far\n",
    "Given three ints, a b c, return True if one of b or c is \"close\" (differing from a by at most 1), while the other is \"far\", differing from both other values by 2 or more. Note: abs(num) computes the absolute value of a number."
   ]
  },
  {
   "cell_type": "code",
   "execution_count": 11,
   "metadata": {},
   "outputs": [],
   "source": [
    "def close_far(a, b, c):\n",
    "  return [True if (abs(b-a) <= 1 and abs(c-a) >= 2 and abs(c-b) >=2) or (abs(c-a) <= 1 and \\\n",
    "  abs(b-a) >= 2 and abs(c-b) >=2) else False][0]\n"
   ]
  },
  {
   "cell_type": "code",
   "execution_count": 12,
   "metadata": {},
   "outputs": [
    {
     "name": "stdout",
     "output_type": "stream",
     "text": [
      "The function's returned result is equivalent to the expected result? True\n"
     ]
    }
   ],
   "source": [
    "testers = [[1, 2, 10], [1, 2, 3], [4, 1, 3], [4, 5, 3], [4, 3, 5], [-1, 10, 0], [0, -1, 10], [10, 10, 8], [10, 8, 9], [8, 9, 10], [8, 9, 7], [8, 6, 9]]\n",
    "\n",
    "expected = [True, False, True, False, False, True, True, True, False, False, False, True]\n",
    "\n",
    "results =[]\n",
    "\n",
    "for i in testers:\n",
    "    results.append(close_far(i[0],i[1],i[2]))\n",
    "\n",
    "print(\"The function's returned result is equivalent to the expected result? \" + str(results == expected))"
   ]
  },
  {
   "cell_type": "markdown",
   "metadata": {},
   "source": [
    "#### A screenshot of the condigbat's execise is shown below:"
   ]
  },
  {
   "cell_type": "markdown",
   "metadata": {},
   "source": [
    "<img src=\"Logic-2_close_far.png\">"
   ]
  },
  {
   "cell_type": "markdown",
   "metadata": {},
   "source": [
    "## Logic-2 > make_chocolate\n",
    "We want make a package of goal kilos of chocolate. We have small bars (1 kilo each) and big bars (5 kilos each). Return the number of small bars to use, assuming we always use big bars before small bars. Return -1 if it can't be done."
   ]
  },
  {
   "cell_type": "code",
   "execution_count": 13,
   "metadata": {},
   "outputs": [],
   "source": [
    "def make_chocolate(small, big, goal):\n",
    "  return [-1 if goal > big*5 + small or goal % 5 > small else [goal-big*5 if goal>big*5 \n",
    "  else goal%5][0]][0]\n"
   ]
  },
  {
   "cell_type": "code",
   "execution_count": 14,
   "metadata": {},
   "outputs": [
    {
     "name": "stdout",
     "output_type": "stream",
     "text": [
      "The function's returned result is equivalent to the expected result? True\n"
     ]
    }
   ],
   "source": [
    "testers = [[4, 1, 9], [4, 1, 10], [4, 1, 7], [6, 2, 7], [4, 1, 5], [4, 1, 4], [5, 4, 9], [9, 3, 18], [3, 1, 9], [1, 2, 7], [1, 2, 6], [1, 2, 5], [6, 1, 10], [6, 1, 11], [6, 1, 12], [6, 1, 13], [6, 2, 10], [6, 2, 11], [6, 2, 12], [60, 100, 550], [1000, 1000000, 5000006], [7, 1, 12], [7, 1, 13], [7, 2, 13]]\n",
    "\n",
    "expected = [4, -1, 2, 2, 0, 4, 4, 3, -1, -1, 1, 0, 5, 6, -1, -1, 0, 1, 2, 50, 6, 7, -1, 3]\n",
    "\n",
    "results =[]\n",
    "\n",
    "for i in testers:\n",
    "    results.append(make_chocolate(i[0],i[1],i[2]))\n",
    "\n",
    "print(\"The function's returned result is equivalent to the expected result? \" + str(results == expected))"
   ]
  },
  {
   "cell_type": "markdown",
   "metadata": {},
   "source": [
    "#### A screenshot of the condigbat's execise is shown below:"
   ]
  },
  {
   "cell_type": "markdown",
   "metadata": {},
   "source": [
    "<img src=\"Logic-2_make_chocolate.png\">"
   ]
  }
 ],
 "metadata": {
  "kernelspec": {
   "display_name": "Python 3",
   "language": "python",
   "name": "python3"
  },
  "language_info": {
   "codemirror_mode": {
    "name": "ipython",
    "version": 3
   },
   "file_extension": ".py",
   "mimetype": "text/x-python",
   "name": "python",
   "nbconvert_exporter": "python",
   "pygments_lexer": "ipython3",
   "version": "3.7.4"
  }
 },
 "nbformat": 4,
 "nbformat_minor": 2
}
