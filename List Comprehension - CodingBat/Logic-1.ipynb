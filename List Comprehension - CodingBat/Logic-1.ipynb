{
 "cells": [
  {
   "cell_type": "markdown",
   "metadata": {},
   "source": [
    "## Logic-1 > cigar_party\n",
    "When squirrels get together for a party, they like to have cigars. A squirrel party is successful when the number of cigars is between 40 and 60, inclusive. Unless it is the weekend, in which case there is no upper bound on the number of cigars. Return True if the party with the given values is successful, or False otherwise."
   ]
  },
  {
   "cell_type": "code",
   "execution_count": null,
   "metadata": {},
   "outputs": [],
   "source": [
    "def cigar_party(cigars, is_weekend):\n",
    "  return (cigars >= 40 and (cigars <= 60 or is_weekend is True))\n"
   ]
  },
  {
   "cell_type": "code",
   "execution_count": null,
   "metadata": {},
   "outputs": [],
   "source": [
    "testers = [[30, False], [50, False], [70, True], [30, True], [50, True], [60, False], [61, False], [40, False], [39, False], [40, True], [39, True]]\n",
    "\n",
    "expected = [False, True, True, False, True, True, False, True, False, True, False]\n",
    "\n",
    "results =[]\n",
    "\n",
    "for i in testers:\n",
    "    results.append(cigar_party(i[0],i[1]))\n",
    "\n",
    "print(\"The function's returned result is equivalent to the expected result? \" + str(results == expected))"
   ]
  },
  {
   "cell_type": "markdown",
   "metadata": {},
   "source": [
    "#### A screenshot of the condigbat's execise is shown below:"
   ]
  },
  {
   "cell_type": "markdown",
   "metadata": {},
   "source": [
    "<img src=\"Logic-1_cigar_party.png\">"
   ]
  },
  {
   "cell_type": "markdown",
   "metadata": {},
   "source": [
    "## Logic-1 > date_fashion\n",
    "You and your date are trying to get a table at a restaurant. The parameter \"you\" is the stylishness of your clothes, in the range 0..10, and \"date\" is the stylishness of your date's clothes. The result getting the table is encoded as an int value with 0=no, 1=maybe, 2=yes. If either of you is very stylish, 8 or more, then the result is 2 (yes). With the exception that if either of you has style of 2 or less, then the result is 0 (no). Otherwise the result is 1 (maybe)."
   ]
  },
  {
   "cell_type": "code",
   "execution_count": null,
   "metadata": {},
   "outputs": [],
   "source": [
    "def date_fashion(you, date):\n",
    "  return [[2 if max([you,date]) > 7 else 1][0] if min([you,date]) > 2 else 0][0]\n"
   ]
  },
  {
   "cell_type": "code",
   "execution_count": null,
   "metadata": {},
   "outputs": [],
   "source": [
    "testers = [[5, 10], [5, 2], [5, 5], [3, 3], [10, 2], [2, 9], [9, 9], [10, 5], [2, 2], [3, 7], [2, 7], [6, 2]]\n",
    "\n",
    "expected = [2, 0, 1, 1, 0, 0, 2, 2, 0, 1, 0, 0]\n",
    "\n",
    "results =[]\n",
    "\n",
    "for i in testers:\n",
    "    results.append(date_fashion(i[0],i[1]))\n",
    "\n",
    "print(\"The function's returned result is equivalent to the expected result? \" + str(results == expected))"
   ]
  },
  {
   "cell_type": "markdown",
   "metadata": {},
   "source": [
    "#### A screenshot of the condigbat's execise is shown below:"
   ]
  },
  {
   "cell_type": "markdown",
   "metadata": {},
   "source": [
    "<img src=\"Logic-1_date_fashion.png\">"
   ]
  },
  {
   "cell_type": "markdown",
   "metadata": {},
   "source": [
    "## Logic-1 > squirrel_play\n",
    "The squirrels in Palo Alto spend most of the day playing. In particular, they play if the temperature is between 60 and 90 (inclusive). Unless it is summer, then the upper limit is 100 instead of 90. Given an int temperature and a boolean is_summer, return True if the squirrels play and False otherwise."
   ]
  },
  {
   "cell_type": "code",
   "execution_count": null,
   "metadata": {},
   "outputs": [],
   "source": [
    "def squirrel_play(temp, is_summer):\n",
    "  return (temp >= 60 and ([temp <= 90 if is_summer is False else temp <= 100][0]))\n"
   ]
  },
  {
   "cell_type": "code",
   "execution_count": null,
   "metadata": {},
   "outputs": [],
   "source": [
    "testers = [[70, False], [95, False], [95, True], [90, False], [90, True], [50, False], [50, True], [100, False], [100, True], [105, True], [59, False], [59, True], [60, False]]\n",
    "\n",
    "expected = [True, False, True, True, True, False, False, False, True, False, False, False, True]\n",
    "\n",
    "results =[]\n",
    "\n",
    "for i in testers:\n",
    "    results.append(squirrel_play(i[0],i[1]))\n",
    "\n",
    "print(\"The function's returned result is equivalent to the expected result? \" + str(results == expected))"
   ]
  },
  {
   "cell_type": "markdown",
   "metadata": {},
   "source": [
    "#### A screenshot of the condigbat's execise is shown below:"
   ]
  },
  {
   "cell_type": "markdown",
   "metadata": {},
   "source": [
    "<img src=\"Logic-1_squirrel_play.png\">"
   ]
  },
  {
   "cell_type": "markdown",
   "metadata": {},
   "source": [
    "## Logic-1 > caught_speeding\n",
    "You are driving a little too fast, and a police officer stops you. Write code to compute the result, encoded as an int value: 0=no ticket, 1=small ticket, 2=big ticket. If speed is 60 or less, the result is 0. If speed is between 61 and 80 inclusive, the result is 1. If speed is 81 or more, the result is 2. Unless it is your birthday -- on that day, your speed can be 5 higher in all cases."
   ]
  },
  {
   "cell_type": "code",
   "execution_count": null,
   "metadata": {},
   "outputs": [],
   "source": [
    "def caught_speeding(speed, is_birthday):\n",
    "  return [[1 if speed > [60 if is_birthday is False else 65][0] else 0][0] + 1 if speed >= [81 \n",
    "  if is_birthday is False else 86][0] else [1 if speed > [60 if is_birthday is False else 65][0] \n",
    "  else 0][0]][0]\n"
   ]
  },
  {
   "cell_type": "code",
   "execution_count": null,
   "metadata": {},
   "outputs": [],
   "source": [
    "testers = [[60, False], [65, False], [65, True], [80, False], [85, False], [85, True], [70, False], [75, False], [75, True], [40, False], [40, True], [90, False]]\n",
    "\n",
    "expected = [0, 1, 0, 1, 2, 1, 1, 1, 1, 0, 0, 2]\n",
    "\n",
    "results =[]\n",
    "\n",
    "for i in testers:\n",
    "    results.append(caught_speeding(i[0],i[1]))\n",
    "\n",
    "print(\"The function's returned result is equivalent to the expected result? \" + str(results == expected))"
   ]
  },
  {
   "cell_type": "markdown",
   "metadata": {},
   "source": [
    "#### A screenshot of the condigbat's execise is shown below:"
   ]
  },
  {
   "cell_type": "markdown",
   "metadata": {},
   "source": [
    "<img src=\"Logic-1_caught_speeding.png\">"
   ]
  },
  {
   "cell_type": "markdown",
   "metadata": {},
   "source": [
    "## Logic-1 > sorta_sum\n",
    "Given 2 ints, a and b, return their sum. However, sums in the range 10..19 inclusive, are forbidden, so in that case just return 20."
   ]
  },
  {
   "cell_type": "code",
   "execution_count": null,
   "metadata": {},
   "outputs": [],
   "source": [
    "def sorta_sum(a, b):\n",
    "  return [a+b if a+b not in range(10,20) else 20][0]\n"
   ]
  },
  {
   "cell_type": "code",
   "execution_count": null,
   "metadata": {},
   "outputs": [],
   "source": [
    "testers = [[3, 4], [9, 4], [10, 11], [12, -3], [-3, 12], [4, 5], [4, 6], [14, 7], [14, 6]]\n",
    "\n",
    "expected = [7, 20, 21, 9, 9, 9, 20, 21, 20]\n",
    "\n",
    "results =[]\n",
    "\n",
    "for i in testers:\n",
    "    results.append(sorta_sum(i[0],i[1]))\n",
    "\n",
    "print(\"The function's returned result is equivalent to the expected result? \" + str(results == expected))"
   ]
  },
  {
   "cell_type": "markdown",
   "metadata": {},
   "source": [
    "#### A screenshot of the condigbat's execise is shown below:"
   ]
  },
  {
   "cell_type": "markdown",
   "metadata": {},
   "source": [
    "<img src=\"Logic-1_sorta_sum.png\">"
   ]
  },
  {
   "cell_type": "markdown",
   "metadata": {},
   "source": [
    "## Logic-1 > alarm_clock\n",
    "Given a day of the week encoded as 0=Sun, 1=Mon, 2=Tue, ...6=Sat, and a boolean indicating if we are on vacation, return a string of the form \"7:00\" indicating when the alarm clock should ring. Weekdays, the alarm should be \"7:00\" and on the weekend it should be \"10:00\". Unless we are on vacation -- then on weekdays it should be \"10:00\" and weekends it should be \"off\"."
   ]
  },
  {
   "cell_type": "code",
   "execution_count": null,
   "metadata": {},
   "outputs": [],
   "source": [
    "def alarm_clock(day, vacation):\n",
    "  return [['7:00' if day in range(1,6) else '10:00'][0] if vacation == False else \n",
    "  ['10:00' if day in range(1,6) else 'off'][0]][0]\n"
   ]
  },
  {
   "cell_type": "code",
   "execution_count": null,
   "metadata": {},
   "outputs": [],
   "source": [
    "testers = [[1, False], [5, False], [0, False], [6, False], [0, True], [6, True], [1, True], [3, True], [5, True]]\n",
    "\n",
    "expected = [\"7:00\", \"7:00\", \"10:00\", \"10:00\", \"off\", \"off\", \"10:00\", \"10:00\", \"10:00\"]\n",
    "\n",
    "results =[]\n",
    "\n",
    "for i in testers:\n",
    "    results.append(alarm_clock(i[0],i[1]))\n",
    "\n",
    "print(\"The function's returned result is equivalent to the expected result? \" + str(results == expected))"
   ]
  },
  {
   "cell_type": "markdown",
   "metadata": {},
   "source": [
    "#### A screenshot of the condigbat's execise is shown below:"
   ]
  },
  {
   "cell_type": "markdown",
   "metadata": {},
   "source": [
    "<img src=\"Logic-1_alarm_clock.png\">"
   ]
  },
  {
   "cell_type": "markdown",
   "metadata": {},
   "source": [
    "## Logic-1 > love6\n",
    "The number 6 is a truly great number. Given two int values, a and b, return True if either one is 6. Or if their sum or difference is 6. Note: the function abs(num) computes the absolute value of a number."
   ]
  },
  {
   "cell_type": "code",
   "execution_count": null,
   "metadata": {},
   "outputs": [],
   "source": [
    "def love6(a, b):\n",
    "  return [True if 6 in [a,b] or a+b == 6 or abs(a - b) == 6 else False][0]\n"
   ]
  },
  {
   "cell_type": "code",
   "execution_count": null,
   "metadata": {},
   "outputs": [],
   "source": [
    "testers = [[6, 4], [4, 5], [1, 5], [1, 6], [1, 8], [1, 7], [7, 5], [8, 2], [6, 6], [-6, 2], [-4, -10], [-7, 1], [7, -1], [-6, 12], [-2, -4], [7, 1], [0, 9], [8, 3], [3, 3], [3, 4]]\n",
    "\n",
    "expected = [True, False, True, True, False, True, False, True, True, False, True, False, True, True, False, True, False, False, True, False]\n",
    "\n",
    "results =[]\n",
    "\n",
    "for i in testers:\n",
    "    results.append(love6(i[0],i[1]))\n",
    "\n",
    "print(\"The function's returned result is equivalent to the expected result? \" + str(results == expected))"
   ]
  },
  {
   "cell_type": "markdown",
   "metadata": {},
   "source": [
    "#### A screenshot of the condigbat's execise is shown below:"
   ]
  },
  {
   "cell_type": "markdown",
   "metadata": {},
   "source": [
    "<img src=\"Logic-1_love6.png\">"
   ]
  },
  {
   "cell_type": "markdown",
   "metadata": {},
   "source": [
    "## Logic-1 > in1to10\n",
    "Given a number n, return True if n is in the range 1..10, inclusive. Unless outside_mode is True, in which case return True if the number is less or equal to 1, or greater or equal to 10."
   ]
  },
  {
   "cell_type": "code",
   "execution_count": null,
   "metadata": {},
   "outputs": [],
   "source": [
    "def in1to10(n, outside_mode):\n",
    "  return [[True if n in range(1,11) else False][0] if outside_mode is False \n",
    "  else [True if n <=1 or n >= 10 else False][0]][0]\n"
   ]
  },
  {
   "cell_type": "code",
   "execution_count": null,
   "metadata": {},
   "outputs": [],
   "source": [
    "testers = [[5, False], [11, False], [11, True], [10, False], [10, True], [9, False], [9, True], [1, False], [1, True], [0, False], [0, True], [-1, False], [-1, True], [99, False], [-99, True]]\n",
    "\n",
    "expected = [True, False, True, True, True, True, False, True, True, False, True, False, True, False, True]\n",
    "\n",
    "results =[]\n",
    "\n",
    "for i in testers:\n",
    "    results.append(in1to10(i[0],i[1]))\n",
    "\n",
    "print(\"The function's returned result is equivalent to the expected result? \" + str(results == expected))"
   ]
  },
  {
   "cell_type": "markdown",
   "metadata": {},
   "source": [
    "#### A screenshot of the condigbat's execise is shown below:"
   ]
  },
  {
   "cell_type": "markdown",
   "metadata": {},
   "source": [
    "<img src=\"Logic-1_in1to10.png\">"
   ]
  },
  {
   "cell_type": "markdown",
   "metadata": {},
   "source": [
    "## Logic-1 > near_ten\n",
    "Given a non-negative number \"num\", return True if num is within 2 of a multiple of 10. Note: (a % b) is the remainder of dividing a by b, so (7 % 5) is 2. See also: Introduction to Mod"
   ]
  },
  {
   "cell_type": "code",
   "execution_count": null,
   "metadata": {},
   "outputs": [],
   "source": [
    "def near_ten(num):\n",
    "  return [True if num%10 <= 2 or num%10 >= 8 else False][0]\n"
   ]
  },
  {
   "cell_type": "code",
   "execution_count": null,
   "metadata": {},
   "outputs": [],
   "source": [
    "testers = [12, 17, 19, 31, 6, 10, 11, 21, 22, 23, 54, 155, 158, 3, 1]\n",
    "\n",
    "expected = [True, False, True, True, False, True, True, True, True, False, False, False, True, False, True]\n",
    "\n",
    "results =[]\n",
    "\n",
    "for i in testers:\n",
    "    results.append(near_ten(i))\n",
    "\n",
    "print(\"The function's returned result is equivalent to the expected result? \" + str(results == expected))"
   ]
  },
  {
   "cell_type": "markdown",
   "metadata": {},
   "source": [
    "#### A screenshot of the condigbat's execise is shown below:"
   ]
  },
  {
   "cell_type": "markdown",
   "metadata": {},
   "source": [
    "<img src=\"Logic-1_near_ten.png\">"
   ]
  }
 ],
 "metadata": {},
 "nbformat": 4,
 "nbformat_minor": 2
}
