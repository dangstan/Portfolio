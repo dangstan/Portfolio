{
 "cells": [
  {
   "cell_type": "markdown",
   "metadata": {},
   "source": [
    "## String-1 > hello_name\n",
    "Given a string name, e.g. \"Bob\", return a greeting of the form \"Hello Bob!\"."
   ]
  },
  {
   "cell_type": "code",
   "execution_count": null,
   "metadata": {},
   "outputs": [],
   "source": [
    "def hello_name(name):\n",
    "    return 'Hello ' + name + '!'\n"
   ]
  },
  {
   "cell_type": "code",
   "execution_count": null,
   "metadata": {},
   "outputs": [],
   "source": [
    "testers = [\"Bob\", \"Alice\", \"X\", \"Dolly\", \"Alpha\", \"Omega\", \"Goodbye\", \"ho ho ho\", \"xyz!\", \"Hello\"]\n",
    "\n",
    "expected = [\"Hello Bob!\", \"Hello Alice!\", \"Hello X!\", \"Hello Dolly!\", \"Hello Alpha!\", \"Hello Omega!\", \"Hello Goodbye!\", \"Hello ho ho ho!\", \"Hello xyz!!\", \"Hello Hello!\"]\n",
    "\n",
    "results =[]\n",
    "\n",
    "for i in testers:\n",
    "    results.append(hello_name(i))\n",
    "\n",
    "print(\"The function's returned result is equivalent to the expected result? \" + str(results == expected))"
   ]
  },
  {
   "cell_type": "markdown",
   "metadata": {},
   "source": [
    "#### A screenshot of the condigbat's execise is shown below:"
   ]
  },
  {
   "cell_type": "markdown",
   "metadata": {},
   "source": [
    "<img src=\"String-1_hello_name.png\">"
   ]
  },
  {
   "cell_type": "markdown",
   "metadata": {},
   "source": [
    "## String-1 > make_abba\n",
    "Given two strings, a and b, return the result of putting them together in the order abba, e.g. \"Hi\" and \"Bye\" returns \"HiByeByeHi\"."
   ]
  },
  {
   "cell_type": "code",
   "execution_count": null,
   "metadata": {},
   "outputs": [],
   "source": [
    "def make_abba(a, b):\n",
    "  return a + b*2 + a\n"
   ]
  },
  {
   "cell_type": "code",
   "execution_count": null,
   "metadata": {},
   "outputs": [],
   "source": [
    "testers = [[\"Hi\", \"Bye\"], [\"Yo\", \"Alice\"], [\"What\", \"Up\"], [\"aaa\", \"bbb\"], [\"x\", \"y\"], [\"x\", \"\"], [\"\", \"y\"], [\"Bo\", \"Ya\"], [\"Ya\", \"Ya\"]]\n",
    "\n",
    "expected = [\"HiByeByeHi\", \"YoAliceAliceYo\", \"WhatUpUpWhat\", \"aaabbbbbbaaa\", \"xyyx\", \"xx\", \"yy\", \"BoYaYaBo\", \"YaYaYaYa\"]\n",
    "\n",
    "results =[]\n",
    "\n",
    "for i in testers:\n",
    "    results.append(make_abba(i[0],i[1]))\n",
    "\n",
    "print(\"The function's returned result is equivalent to the expected result? \" + str(results == expected))"
   ]
  },
  {
   "cell_type": "markdown",
   "metadata": {},
   "source": [
    "#### A screenshot of the condigbat's execise is shown below:"
   ]
  },
  {
   "cell_type": "markdown",
   "metadata": {},
   "source": [
    "<img src=\"String-1_make_abba.png\">"
   ]
  },
  {
   "cell_type": "markdown",
   "metadata": {},
   "source": [
    "## String-1 > make_tags\n",
    "The web is built with HTML strings like \"<i>Yay</i>\" which draws Yay as italic text. In this example, the \"i\" tag makes <i> and </i> which surround the word \"Yay\". Given tag and word strings, create the HTML string with tags around the word, e.g. \"<i>Yay</i>\"."
   ]
  },
  {
   "cell_type": "code",
   "execution_count": null,
   "metadata": {},
   "outputs": [],
   "source": [
    "def make_tags(tag, word):\n",
    "  return '<' + tag + '>' + word + '</' + tag + '>'\n"
   ]
  },
  {
   "cell_type": "code",
   "execution_count": null,
   "metadata": {},
   "outputs": [],
   "source": [
    "testers = [[\"i\", \"Yay\"], [\"i\", \"Hello\"], [\"cite\", \"Yay\"], [\"address\", \"here\"], [\"body\", \"Heart\"], [\"i\", \"i\"], [\"i\", \"\"]]\n",
    "\n",
    "expected = [\"<i>Yay</i>\", \"<i>Hello</i>\", \"<cite>Yay</cite>\", \"<address>here</address>\", \"<body>Heart</body>\", \"<i>i</i>\", \"<i></i>\"]\n",
    "\n",
    "results =[]\n",
    "\n",
    "for i in testers:\n",
    "    results.append(make_tags(i[0],i[1]))\n",
    "\n",
    "print(\"The function's returned result is equivalent to the expected result? \" + str(results == expected))"
   ]
  },
  {
   "cell_type": "markdown",
   "metadata": {},
   "source": [
    "#### A screenshot of the condigbat's execise is shown below:"
   ]
  },
  {
   "cell_type": "markdown",
   "metadata": {},
   "source": [
    "<img src=\"String-1_make_tags.png\">"
   ]
  },
  {
   "cell_type": "markdown",
   "metadata": {},
   "source": [
    "## String-1 > make_out_word\n",
    "Given an \"out\" string length 4, such as \"<<>>\", and a word, return a new string where the word is in the middle of the out string, e.g. \"<<word>>\"."
   ]
  },
  {
   "cell_type": "code",
   "execution_count": null,
   "metadata": {},
   "outputs": [],
   "source": [
    "def make_out_word(out, word):\n",
    "  return out[:2] + word + out[2:]\n"
   ]
  },
  {
   "cell_type": "code",
   "execution_count": null,
   "metadata": {},
   "outputs": [],
   "source": [
    "testers = [[\"<<>>\", \"Yay\"], [\"<<>>\", \"WooHoo\"], [\"[[]]\", \"word\"], [\"HHoo\", \"Hello\"], [\"abyz\", \"YAY\"]]\n",
    "\n",
    "expected = [\"<<Yay>>\", \"<<WooHoo>>\", \"[[word]]\", \"HHHellooo\", \"abYAYyz\"]\n",
    "\n",
    "results =[]\n",
    "\n",
    "for i in testers:\n",
    "    results.append(make_out_word(i[0],i[1]))\n",
    "\n",
    "print(\"The function's returned result is equivalent to the expected result? \" + str(results == expected))"
   ]
  },
  {
   "cell_type": "markdown",
   "metadata": {},
   "source": [
    "#### A screenshot of the condigbat's execise is shown below:"
   ]
  },
  {
   "cell_type": "markdown",
   "metadata": {},
   "source": [
    "<img src=\"String-1_make_out_word.png\">"
   ]
  },
  {
   "cell_type": "markdown",
   "metadata": {},
   "source": [
    "## String-1 > extra_end\n",
    "Given a string, return a new string made of 3 copies of the last 2 chars of the original string. The string length will be at least 2."
   ]
  },
  {
   "cell_type": "code",
   "execution_count": null,
   "metadata": {},
   "outputs": [],
   "source": [
    "def extra_end(str):\n",
    "  return str[-2:]*3\n"
   ]
  },
  {
   "cell_type": "code",
   "execution_count": null,
   "metadata": {},
   "outputs": [],
   "source": [
    "testers = [\"Hello\", \"ab\", \"Hi\", \"Candy\", \"Code\"]\n",
    "\n",
    "expected = [\"lololo\", \"ababab\", \"HiHiHi\", \"dydydy\", \"dedede\"]\n",
    "\n",
    "results =[]\n",
    "\n",
    "for i in testers:\n",
    "    results.append(extra_end(i))\n",
    "\n",
    "print(\"The function's returned result is equivalent to the expected result? \" + str(results == expected))"
   ]
  },
  {
   "cell_type": "markdown",
   "metadata": {},
   "source": [
    "#### A screenshot of the condigbat's execise is shown below:"
   ]
  },
  {
   "cell_type": "markdown",
   "metadata": {},
   "source": [
    "<img src=\"String-1_extra_end.png\">"
   ]
  },
  {
   "cell_type": "markdown",
   "metadata": {},
   "source": [
    "## String-1 > first_two\n",
    "Given a string, return the string made of its first two chars, so the String \"Hello\" yields \"He\". If the string is shorter than length 2, return whatever there is, so \"X\" yields \"X\", and the empty string \"\" yields the empty string \"\"."
   ]
  },
  {
   "cell_type": "code",
   "execution_count": null,
   "metadata": {},
   "outputs": [],
   "source": [
    "def first_two(str):\n",
    "  return str[:2]\n"
   ]
  },
  {
   "cell_type": "code",
   "execution_count": null,
   "metadata": {},
   "outputs": [],
   "source": [
    "testers = [\"Hello\", \"abcdefg\", \"ab\", \"a\", \"\", \"Kitten\", \"hi\", \"hiya\"]\n",
    "\n",
    "expected = [\"He\", \"ab\", \"ab\", \"a\", \"\", \"Ki\", \"hi\", \"hi\"]\n",
    "\n",
    "results =[]\n",
    "\n",
    "for i in testers:\n",
    "    results.append(first_two(i))\n",
    "\n",
    "print(\"The function's returned result is equivalent to the expected result? \" + str(results == expected))"
   ]
  },
  {
   "cell_type": "markdown",
   "metadata": {},
   "source": [
    "#### A screenshot of the condigbat's execise is shown below:"
   ]
  },
  {
   "cell_type": "markdown",
   "metadata": {},
   "source": [
    "<img src=\"String-1_first_two.png\">"
   ]
  },
  {
   "cell_type": "markdown",
   "metadata": {},
   "source": [
    "## String-1 > first_half\n",
    "Given a string of even length, return the first half. So the string \"WooHoo\" yields \"Woo\"."
   ]
  },
  {
   "cell_type": "code",
   "execution_count": null,
   "metadata": {},
   "outputs": [],
   "source": [
    "def first_half(str):\n",
    "  return str[:int(len(str)/2)]\n"
   ]
  },
  {
   "cell_type": "code",
   "execution_count": null,
   "metadata": {},
   "outputs": [],
   "source": [
    "testers = [\"WooHoo\", \"HelloThere\", \"abcdef\", \"ab\", \"\", \"0123456789\", \"kitten\"]\n",
    "\n",
    "expected = [\"Woo\", \"Hello\", \"abc\", \"a\", \"\", \"01234\", \"kit\"]\n",
    "\n",
    "results =[]\n",
    "\n",
    "for i in testers:\n",
    "    results.append(first_half(i))\n",
    "\n",
    "print(\"The function's returned result is equivalent to the expected result? \" + str(results == expected))"
   ]
  },
  {
   "cell_type": "markdown",
   "metadata": {},
   "source": [
    "#### A screenshot of the condigbat's execise is shown below:"
   ]
  },
  {
   "cell_type": "markdown",
   "metadata": {},
   "source": [
    "<img src=\"String-1_first_half.png\">"
   ]
  },
  {
   "cell_type": "markdown",
   "metadata": {},
   "source": [
    "## String-1 > without_end\n",
    "Given a string, return a version without the first and last char, so \"Hello\" yields \"ell\". The string length will be at least 2."
   ]
  },
  {
   "cell_type": "code",
   "execution_count": null,
   "metadata": {},
   "outputs": [],
   "source": [
    "def without_end(str):\n",
    "  return str[1:-1]\n"
   ]
  },
  {
   "cell_type": "code",
   "execution_count": null,
   "metadata": {},
   "outputs": [],
   "source": [
    "testers = [\"Hello\", \"java\", \"coding\", \"code\", \"ab\", \"Chocolate!\", \"kitten\", \"woohoo\"]\n",
    "\n",
    "expected = [\"ell\", \"av\", \"odin\", \"od\", \"\", \"hocolate\", \"itte\", \"ooho\"]\n",
    "\n",
    "results =[]\n",
    "\n",
    "for i in testers:\n",
    "    results.append(without_end(i))\n",
    "\n",
    "print(\"The function's returned result is equivalent to the expected result? \" + str(results == expected))"
   ]
  },
  {
   "cell_type": "markdown",
   "metadata": {},
   "source": [
    "#### A screenshot of the condigbat's execise is shown below:"
   ]
  },
  {
   "cell_type": "markdown",
   "metadata": {},
   "source": [
    "<img src=\"String-1_without_end.png\">"
   ]
  },
  {
   "cell_type": "markdown",
   "metadata": {},
   "source": [
    "## String-1 > combo_string\n",
    "Given 2 strings, a and b, return a string of the form short+long+short, with the shorter string on the outside and the longer string on the inside. The strings will not be the same length, but they may be empty (length 0)."
   ]
  },
  {
   "cell_type": "code",
   "execution_count": null,
   "metadata": {},
   "outputs": [],
   "source": [
    "def combo_string(a, b):\n",
    "  return min([a,b], key = len) + max([a,b], key = len) + min([a,b], key = len) \n"
   ]
  },
  {
   "cell_type": "code",
   "execution_count": null,
   "metadata": {},
   "outputs": [],
   "source": [
    "testers = [[\"Hello\", \"hi\"], [\"hi\", \"Hello\"], [\"aaa\", \"b\"], [\"b\", \"aaa\"], [\"aaa\", \"\"], [\"\", \"bb\"], [\"aaa\", \"1234\"], [\"aaa\", \"bb\"], [\"a\", \"bb\"], [\"bb\", \"a\"], [\"xyz\", \"ab\"]]\n",
    "\n",
    "expected = [\"hiHellohi\", \"hiHellohi\", \"baaab\", \"baaab\", \"aaa\", \"bb\", \"aaa1234aaa\", \"bbaaabb\", \"abba\", \"abba\", \"abxyzab\"]\n",
    "\n",
    "results =[]\n",
    "\n",
    "for i in testers:\n",
    "    results.append(combo_string(i[0],i[1]))\n",
    "\n",
    "print(\"The function's returned result is equivalent to the expected result? \" + str(results == expected))"
   ]
  },
  {
   "cell_type": "markdown",
   "metadata": {},
   "source": [
    "#### A screenshot of the condigbat's execise is shown below:"
   ]
  },
  {
   "cell_type": "markdown",
   "metadata": {},
   "source": [
    "<img src=\"String-1_combo_string.png\">"
   ]
  },
  {
   "cell_type": "markdown",
   "metadata": {},
   "source": [
    "## String-1 > non_start\n",
    "Given 2 strings, return their concatenation, except omit the first char of each. The strings will be at least length 1."
   ]
  },
  {
   "cell_type": "code",
   "execution_count": null,
   "metadata": {},
   "outputs": [],
   "source": [
    "def non_start(a, b):\n",
    "  return a[1:] + b[1:]\n"
   ]
  },
  {
   "cell_type": "code",
   "execution_count": null,
   "metadata": {},
   "outputs": [],
   "source": [
    "testers = [[\"Hello\", \"There\"], [\"java\", \"code\"], [\"shotl\", \"java\"], [\"ab\", \"xy\"], [\"ab\", \"x\"], [\"x\", \"ac\"], [\"a\", \"x\"], [\"kit\", \"kat\"], [\"mart\", \"dart\"]]\n",
    "\n",
    "expected = [\"ellohere\", \"avaode\", \"hotlava\", \"by\", \"b\", \"c\", \"\", \"itat\", \"artart\"]\n",
    "\n",
    "results =[]\n",
    "\n",
    "for i in testers:\n",
    "    results.append(non_start(i[0],i[1]))\n",
    "\n",
    "print(\"The function's returned result is equivalent to the expected result? \" + str(results == expected))"
   ]
  },
  {
   "cell_type": "markdown",
   "metadata": {},
   "source": [
    "#### A screenshot of the condigbat's execise is shown below:"
   ]
  },
  {
   "cell_type": "markdown",
   "metadata": {},
   "source": [
    "<img src=\"String-1_non_start.png\">"
   ]
  },
  {
   "cell_type": "markdown",
   "metadata": {},
   "source": [
    "## String-1 > left2\n",
    "Given a string, return a \"rotated left 2\" version where the first 2 chars are moved to the end. The string length will be at least 2."
   ]
  },
  {
   "cell_type": "code",
   "execution_count": null,
   "metadata": {},
   "outputs": [],
   "source": [
    "def left2(str):\n",
    "  return str[2:] + str[:2]\n"
   ]
  },
  {
   "cell_type": "code",
   "execution_count": null,
   "metadata": {},
   "outputs": [],
   "source": [
    "testers = [\"Hello\", \"java\", \"Hi\", \"code\", \"cat\", \"12345\", \"Chocolate\", \"bricks\"]\n",
    "\n",
    "expected = [\"lloHe\", \"vaja\", \"Hi\", \"deco\", \"tca\", \"34512\", \"ocolateCh\", \"icksbr\"]\n",
    "\n",
    "results =[]\n",
    "\n",
    "for i in testers:\n",
    "    results.append(left2(i))\n",
    "\n",
    "print(\"The function's returned result is equivalent to the expected result? \" + str(results == expected))"
   ]
  },
  {
   "cell_type": "markdown",
   "metadata": {},
   "source": [
    "#### A screenshot of the condigbat's execise is shown below:"
   ]
  },
  {
   "cell_type": "markdown",
   "metadata": {},
   "source": [
    "<img src=\"String-1_left2.png\">"
   ]
  }
 ],
 "metadata": {},
 "nbformat": 4,
 "nbformat_minor": 2
}
