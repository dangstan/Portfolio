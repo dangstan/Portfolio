{
 "cells": [
  {
   "cell_type": "markdown",
   "metadata": {},
   "source": [
    "### Run this cell below and this cell only. After running it press on the start button and then click anywhere else on the jupyter notebook layout."
   ]
  },
  {
   "cell_type": "code",
   "execution_count": null,
   "metadata": {
    "ExecuteTime": {
     "end_time": "2021-02-06T18:39:52.506141Z",
     "start_time": "2021-02-06T18:39:52.495169Z"
    },
    "run_control": {
     "marked": true
    },
    "scrolled": true
   },
   "outputs": [],
   "source": [
    "import ipywidgets as widgets\n",
    "import functions\n",
    "from IPython.display import Javascript, display, HTML, clear_output\n",
    "import pyautogui\n",
    "\n",
    "start = widgets.Button(description=\"Start\")\n",
    "start.on_click(functions.run_checkbox_1)\n",
    "display(start)"
   ]
  },
  {
   "cell_type": "code",
   "execution_count": null,
   "metadata": {
    "ExecuteTime": {
     "end_time": "2021-02-06T18:39:55.054040Z",
     "start_time": "2021-02-06T18:39:55.041082Z"
    },
    "run_control": {
     "marked": true
    }
   },
   "outputs": [],
   "source": [
    "%pylab inline\n",
    "display(HTML('''<style>\n",
    "\n",
    "#notebook-container {\n",
    "    width: 100%;\n",
    "    background-color: #EEE\n",
    "}\n",
    "\n",
    ".code_cell {\n",
    "   flex-direction: row !important;\n",
    "}\n",
    "\n",
    ".code_cell .output_wrapper {\n",
    "    width: 100%;\n",
    "    background-color: #FFF;\n",
    "}\n",
    "\n",
    ".code_cell .input {\n",
    "    width: 20%;\n",
    "    background-color: #FFF\n",
    "}\n",
    "\n",
    ".code_cell .output {\n",
    "    width: 100%;\n",
    "    background-color: #FFF;\n",
    "    flex-direction: row\n",
    "}\n",
    "\n",
    "</style>'''))\n",
    "\n",
    "pyautogui.hotkey('shift', 'enter')"
   ]
  },
  {
   "cell_type": "code",
   "execution_count": null,
   "metadata": {
    "ExecuteTime": {
     "end_time": "2021-02-06T18:39:57.841892Z",
     "start_time": "2021-02-06T18:39:55.065013Z"
    },
    "run_control": {
     "marked": true
    },
    "scrolled": false
   },
   "outputs": [],
   "source": [
    "_, movie_by_user, movie_ratings, user_ratings = functions.analysing_dataframes('ml-latest-small\\.'.replace('.',''), False)\n",
    "pyautogui.hotkey('shift', 'enter')"
   ]
  },
  {
   "cell_type": "code",
   "execution_count": null,
   "metadata": {
    "ExecuteTime": {
     "end_time": "2021-02-06T18:40:00.609502Z",
     "start_time": "2021-02-06T18:39:57.843887Z"
    },
    "run_control": {
     "marked": true
    },
    "scrolled": false
   },
   "outputs": [],
   "source": [
    "temp = []\n",
    "ratings = {}\n",
    "number = len(movie_by_user)\n",
    "movie_by_user.loc[number] = np.nan\n",
    "most_watched = list(functions.get_most_watched(movie_by_user).iloc[-30:,:]['title'].values)\n",
    "\n",
    "pyautogui.hotkey('shift', 'enter')"
   ]
  },
  {
   "cell_type": "code",
   "execution_count": null,
   "metadata": {
    "ExecuteTime": {
     "end_time": "2021-02-06T18:40:00.821925Z",
     "start_time": "2021-02-06T18:40:00.611486Z"
    },
    "scrolled": false
   },
   "outputs": [],
   "source": [
    "widget = functions.request(most_watched, ratings)"
   ]
  },
  {
   "cell_type": "code",
   "execution_count": null,
   "metadata": {
    "ExecuteTime": {
     "end_time": "2021-02-06T18:39:22.711852Z",
     "start_time": "2021-02-06T18:39:22.699883Z"
    }
   },
   "outputs": [],
   "source": [
    "most_watched, temp, ratings = functions.getting_selected(number,widget, movie_by_user, temp, ratings, most_watched)"
   ]
  },
  {
   "cell_type": "code",
   "execution_count": null,
   "metadata": {
    "ExecuteTime": {
     "end_time": "2021-02-06T18:39:22.778679Z",
     "start_time": "2021-02-06T18:39:22.714844Z"
    }
   },
   "outputs": [],
   "source": [
    "user_ratings = functions.profiling_new_user(ratings,movie_ratings, user_ratings)"
   ]
  },
  {
   "cell_type": "code",
   "execution_count": null,
   "metadata": {
    "ExecuteTime": {
     "end_time": "2021-02-06T18:39:31.310988Z",
     "start_time": "2021-02-06T18:39:22.781666Z"
    },
    "run_control": {
     "marked": true
    },
    "scrolled": true
   },
   "outputs": [],
   "source": [
    "functions.recommendation(number-1, movie_by_user, movie_ratings, user_ratings)"
   ]
  }
 ],
 "metadata": {
  "hide_input": false,
  "kernelspec": {
   "display_name": "Python 3",
   "language": "python",
   "name": "python3"
  },
  "language_info": {
   "codemirror_mode": {
    "name": "ipython",
    "version": 3
   },
   "file_extension": ".py",
   "mimetype": "text/x-python",
   "name": "python",
   "nbconvert_exporter": "python",
   "pygments_lexer": "ipython3",
   "version": "3.7.4"
  }
 },
 "nbformat": 4,
 "nbformat_minor": 2
}
