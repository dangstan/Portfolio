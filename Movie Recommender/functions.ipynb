{
 "cells": [
  {
   "cell_type": "code",
   "execution_count": 124,
   "metadata": {
    "ExecuteTime": {
     "end_time": "2021-01-08T14:56:24.006905Z",
     "start_time": "2021-01-08T14:56:23.989979Z"
    },
    "run_control": {
     "marked": true
    },
    "scrolled": true
   },
   "outputs": [
    {
     "name": "stdout",
     "output_type": "stream",
     "text": [
      "Populating the interactive namespace from numpy and matplotlib\n"
     ]
    }
   ],
   "source": [
    "import time\n",
    "import pandas as pd\n",
    "import matplotlib.pyplot as plt\n",
    "import numpy as np\n",
    "from scipy.sparse import csr_matrix\n",
    "from sklearn.metrics.pairwise import cosine_similarity\n",
    "import ipywidgets as widgets\n",
    "from IPython.display import Javascript, display, Image, clear_output\n",
    "%pylab inline\n",
    "import matplotlib.pyplot as plt\n",
    "import matplotlib.image as mpimg"
   ]
  },
  {
   "cell_type": "code",
   "execution_count": 125,
   "metadata": {
    "ExecuteTime": {
     "end_time": "2021-01-08T14:56:24.017881Z",
     "start_time": "2021-01-08T14:56:24.008899Z"
    },
    "run_control": {
     "marked": true
    }
   },
   "outputs": [],
   "source": [
    "def getting_dataframes(path):\n",
    "    movies = pd.read_csv(path  + 'movies.csv')\n",
    "    ratings = pd.read_csv(path + 'ratings.csv')\n",
    "    df_merged = pd.merge(movies, ratings)\n",
    "    print('Quantas avaliações temos? ', len(ratings), '\\nE quantos filmes ao todo? ', len(movies))\n",
    "    \n",
    "    ratings_title = pd.merge(ratings, movies[['movieId', 'title']], on='movieId' )\n",
    "\n",
    "    movie_by_user = pd.pivot_table(ratings_title, index='userId', columns= 'title', values='rating')\n",
    "    \n",
    "    return ratings, df_merged, movie_by_user"
   ]
  },
  {
   "cell_type": "code",
   "execution_count": 126,
   "metadata": {
    "ExecuteTime": {
     "end_time": "2021-01-08T14:56:24.031861Z",
     "start_time": "2021-01-08T14:56:24.019870Z"
    }
   },
   "outputs": [],
   "source": [
    "def most_common(df, group):\n",
    "    df[group].to_csv('test.txt', header=False, index=False)\n",
    "\n",
    "    common = open(\"test.txt\", 'r')\n",
    "    common = common.read()\n",
    "    common = common.replace('\\n','|').split('|')\n",
    "    common = pd.DataFrame(common)\n",
    "    return common"
   ]
  },
  {
   "cell_type": "code",
   "execution_count": 127,
   "metadata": {
    "ExecuteTime": {
     "end_time": "2021-01-08T14:56:24.043806Z",
     "start_time": "2021-01-08T14:56:24.032853Z"
    }
   },
   "outputs": [],
   "source": [
    "def getting_and_plotting_genres(dataframe, df_merged):\n",
    "\n",
    "    genres = most_common(df_merged, 'genres')[:-1]\n",
    "\n",
    "    generos = list(genres[0].values)\n",
    "\n",
    "    genres_to_plot = pd.DataFrame({'title': genres[0].value_counts().keys(), 'count': genres[0].value_counts().values})\n",
    "\n",
    "    fig = plt.figure(1, figsize=(9,6.5))\n",
    "    ax2 = fig.add_subplot(2,1,2)\n",
    "    y_axis = genres_to_plot.iloc[:,1]\n",
    "    x_axis = genres_to_plot.index\n",
    "    x_label = genres_to_plot.iloc[:,0]\n",
    "    plt.xticks(rotation=85, fontsize = 15)\n",
    "    plt.yticks(fontsize = 15)\n",
    "    plt.xticks(x_axis, x_label)\n",
    "    plt.ylabel(\"Ocorrências\", fontsize = 24, labelpad = 0)\n",
    "    ax2.bar(x_axis, y_axis, align = 'center')\n",
    "    plt.title(\"Popularidade dos gêneros\",bbox={'facecolor':'k', 'pad':5},color='w',fontsize = 25)\n",
    "\n",
    "    plt.show()\n",
    "    \n",
    "    return genres[0].value_counts().keys()[:8]"
   ]
  },
  {
   "cell_type": "code",
   "execution_count": 128,
   "metadata": {
    "ExecuteTime": {
     "end_time": "2021-01-08T14:56:24.055798Z",
     "start_time": "2021-01-08T14:56:24.044813Z"
    }
   },
   "outputs": [],
   "source": [
    "def dummizing_dataframe(dataframe, generos):\n",
    "    for item in generos:\n",
    "        dataframe.loc[dataframe['genres'].str.contains(item, na = False), item] = 1\n",
    "        dataframe.loc[item] = dataframe[item].fillna(0)\n",
    "        \n",
    "    dataframe.iloc[:,6:] = dataframe.iloc[:,6:].fillna(0).astype('int')\n",
    "    dataframe = dataframe.dropna()\n",
    "    return dataframe    "
   ]
  },
  {
   "cell_type": "code",
   "execution_count": 129,
   "metadata": {
    "ExecuteTime": {
     "end_time": "2021-01-08T14:56:24.064750Z",
     "start_time": "2021-01-08T14:56:24.057787Z"
    },
    "scrolled": false
   },
   "outputs": [],
   "source": [
    "def averaging_genre_by_user(genres, dataframe):\n",
    "    \n",
    "    user_ratings = pd.DataFrame()\n",
    "    for item in genres:\n",
    "        temp = dataframe[dataframe['genres'].str.contains(item)]\n",
    "        temp = temp[['userId', 'rating']].groupby(['userId']).mean().round(2)\n",
    "        user_ratings = pd.concat([user_ratings, temp], axis = 1)\n",
    "\n",
    "\n",
    "    columns = []    \n",
    "    for nome in genres:\n",
    "        columns.append('media_' + nome)\n",
    "\n",
    "    user_ratings.columns = columns    \n",
    "    \n",
    "    return user_ratings    "
   ]
  },
  {
   "cell_type": "code",
   "execution_count": 130,
   "metadata": {
    "ExecuteTime": {
     "end_time": "2021-01-08T14:56:24.074747Z",
     "start_time": "2021-01-08T14:56:24.067741Z"
    }
   },
   "outputs": [],
   "source": [
    "def averaging_dummmized_movies(genres, dataframe):\n",
    "    \n",
    "    movie_ratings = pd.DataFrame()\n",
    "    for item in genres:\n",
    "        temp = dataframe[dataframe['genres'].str.contains(item)]\n",
    "        temp = temp[['title', 'rating'] + list(genres)].groupby(['title']).mean().round(2)\n",
    "        movie_ratings = pd.concat([movie_ratings, temp], axis = 0)\n",
    "\n",
    "    movie_ratings = movie_ratings.loc[~movie_ratings.index.duplicated(keep='first')]\n",
    "    \n",
    "    return movie_ratings"
   ]
  },
  {
   "cell_type": "code",
   "execution_count": 131,
   "metadata": {
    "ExecuteTime": {
     "end_time": "2021-01-08T14:56:24.087719Z",
     "start_time": "2021-01-08T14:56:24.076718Z"
    }
   },
   "outputs": [],
   "source": [
    "def evaluating_genres_correlation(dataframe):\n",
    "    \n",
    "    import statsmodels.formula.api as smf\n",
    "\n",
    "    dataframe = dataframe.rename(columns={\"media_Sci-Fi\": \"media_SciFi\"})\n",
    "    \n",
    "    print('Correlação entre os gêneros:\\n')\n",
    "    \n",
    "    display(dataframe.corr())\n",
    "    \n",
    "    print('Regressão Logística tendo media_Drama como variável alvo:\\n')\n",
    "\n",
    "    reg_user = smf.ols('media_Drama ~ media_Comedy + media_Thriller + media_Action + media_Romance + media_Adventure + media_Crime + media_SciFi', data = dataframe).fit()\n",
    "    \n",
    "    print(reg_user.summary())\n",
    "        \n",
    "    print('\\n')\n",
    "    \n",
    "    print('Regressão Logística tendo media_SciFi como variável alvo:\\n')\n",
    "    \n",
    "    reg_user = smf.ols('media_SciFi ~ media_Comedy + media_Thriller + media_Action + media_Romance + media_Adventure + media_Crime + media_Drama', data = dataframe).fit()\n",
    "    \n",
    "    print(reg_user.summary())\n",
    "    \n",
    "    print('\\n')\n",
    "    \n",
    "    print('Regressão Logística tendo media_Action como variável alvo:\\n')\n",
    "    \n",
    "    reg_user = smf.ols('media_Action ~ media_Comedy + media_Thriller + media_SciFi + media_Romance + media_Adventure + media_Crime + media_Drama', data = dataframe).fit()\n",
    "    \n",
    "    print(reg_user.summary())\n",
    "    \n",
    "    print('\\n')\n",
    "    \n",
    "    print('Regressão Logística tendo media_Comedy como variável alvo:\\n')\n",
    "    \n",
    "    reg_user = smf.ols('media_Comedy ~ media_Action + media_Thriller + media_SciFi + media_Romance + media_Adventure + media_Crime + media_Drama', data = dataframe).fit()\n",
    "    \n",
    "    print(reg_user.summary())\n",
    "    \n",
    "    print('\\n')\n",
    "    \n",
    "    print('Regressão Logística tendo media_Romance como variável alvo:\\n')\n",
    "    \n",
    "    reg_user = smf.ols('media_Romance ~ media_Comedy + media_Thriller + media_SciFi + media_Action + media_Adventure + media_Crime + media_Drama', data = dataframe).fit()\n",
    "    \n",
    "    print(reg_user.summary())\n",
    "    \n",
    "    print('\\n')\n",
    "    \n",
    "    print('Regressão Logística tendo media_Thriller como variável alvo:\\n')\n",
    "    \n",
    "    reg_user = smf.ols('media_Thriller ~ media_Comedy + media_Action + media_SciFi + media_Romance + media_Adventure + media_Crime + media_Drama', data = dataframe).fit()\n",
    "    \n",
    "    print(reg_user.summary())\n",
    "    \n",
    "    print('\\n')\n",
    "    \n",
    "    print('Regressão Logística tendo media_Adventure como variável alvo:\\n')\n",
    "    \n",
    "    reg_user = smf.ols('media_Adventure ~ media_Comedy + media_Thriller + media_SciFi + media_Romance + media_Action + media_Crime + media_Drama', data = dataframe).fit()\n",
    "    \n",
    "    print(reg_user.summary())\n",
    "    \n",
    "    "
   ]
  },
  {
   "cell_type": "markdown",
   "metadata": {},
   "source": [
    "### Primeira função geral"
   ]
  },
  {
   "cell_type": "code",
   "execution_count": 132,
   "metadata": {
    "ExecuteTime": {
     "end_time": "2021-01-08T14:56:24.095668Z",
     "start_time": "2021-01-08T14:56:24.089684Z"
    },
    "scrolled": true
   },
   "outputs": [],
   "source": [
    "def analysing_dataframes(path):\n",
    "\n",
    "    ratings,df_merged, movie_by_user = getting_dataframes(path) # load dataframes and do transformations to allow for analysis \n",
    "    \n",
    "    common_users = most_common(ratings, 'userId')\n",
    "    \n",
    "    generos = getting_and_plotting_genres(common_users, df_merged) # plot distribution of genres in dataframe\n",
    "\n",
    "    df_merged = dummizing_dataframe(df_merged, generos) # get dummies for each genre in each movie\n",
    "    \n",
    "    user_ratings = averaging_genre_by_user(generos, df_merged) # get average rating for genre by user\n",
    "\n",
    "    movie_ratings = averaging_dummmized_movies(generos, df_merged) # get average rating for each movie\n",
    "\n",
    "    evaluating_genres_correlation(user_ratings) # logistic regression to analyse correlations between genres\n",
    "    \n",
    "    return common_users, movie_by_user, movie_ratings, user_ratings"
   ]
  },
  {
   "cell_type": "code",
   "execution_count": 133,
   "metadata": {
    "ExecuteTime": {
     "end_time": "2021-01-08T14:56:24.108659Z",
     "start_time": "2021-01-08T14:56:24.096664Z"
    }
   },
   "outputs": [],
   "source": [
    "def votes_evaluation(movie_by_user, movie_ratings, user_ratings):\n",
    "    \n",
    "    counter = user_ratings.index.astype(int)\n",
    "\n",
    "    not_seen_dict = {}\n",
    "\n",
    "    seen_dict = {}\n",
    "\n",
    "    for n in range(len(counter)):\n",
    "\n",
    "        id_n = int(counter[int(n)])\n",
    "\n",
    "        nan_movies = movie_by_user.loc[int(id_n),:].isna()\n",
    "\n",
    "        nan_movies = nan_movies[nan_movies == True]\n",
    "\n",
    "        movies_seen = [x for x in movie_by_user.columns if x not in nan_movies]\n",
    "\n",
    "        seen_dict[id_n] =  list(movies_seen)\n",
    "\n",
    "        not_seen_dict[id_n] =  list(nan_movies.index)\n",
    "\n",
    "        lista_cont = movie_ratings[movie_ratings.index.isin(movies_seen)].iloc[:,1:].sum() \n",
    "\n",
    "        user_ratings.iloc[int(id_n)-1,:] = np.array((user_ratings.iloc[int(id_n)-1,:].values.T*lista_cont)/max(lista_cont))\n",
    "\n",
    "    return seen_dict, not_seen_dict,user_ratings"
   ]
  },
  {
   "cell_type": "code",
   "execution_count": 134,
   "metadata": {
    "ExecuteTime": {
     "end_time": "2021-01-08T14:56:24.121629Z",
     "start_time": "2021-01-08T14:56:24.110640Z"
    }
   },
   "outputs": [],
   "source": [
    "def similarity_eval(user_ratings, id_n):\n",
    "    \n",
    "    user_ratings = user_ratings.apply(lambda row: row.fillna(row.mean()), axis=1)\n",
    "\n",
    "    cosine = cosine_similarity(user_ratings)\n",
    "    \n",
    "    np.fill_diagonal(cosine, 0 )\n",
    "    similarity_with_user =pd.DataFrame(cosine,index=user_ratings.index)\n",
    "    similarity_with_user.columns=user_ratings.index\n",
    "    \n",
    "    most_related_users = similarity_with_user.iloc[id_n-1,:]\n",
    "    most_related_users = most_related_users.sort_values(ascending = False)[most_related_users>0.8]\n",
    "    \n",
    "    return most_related_users"
   ]
  },
  {
   "cell_type": "code",
   "execution_count": 135,
   "metadata": {
    "ExecuteTime": {
     "end_time": "2021-01-08T14:56:24.134570Z",
     "start_time": "2021-01-08T14:56:24.122619Z"
    }
   },
   "outputs": [],
   "source": [
    "def recommending(most_related_users, movie_by_user, not_seen_dict, id_n, boolean = False):    \n",
    "\n",
    "    movies_to_watch = []\n",
    "    movies_to_def_watch = []\n",
    "\n",
    "    movie_by_related_user = movie_by_user[movie_by_user.index.isin(list(most_related_users.index))]\n",
    "    movie_means_for_related_user = movie_by_related_user.iloc[:,:].mean()[movie_by_related_user.iloc[:,:].mean().notnull()]\n",
    "    movies_to_watch = movie_means_for_related_user[(movie_means_for_related_user>4) & (movie_means_for_related_user<4.81)]\n",
    "    movies_to_def_watch = movie_means_for_related_user[movie_means_for_related_user>4.8]\n",
    "\n",
    "    print(\"Out of \" + str(len(not_seen_dict[id_n])) + \" movies, \" + str(len(movies_to_watch)) + \" fits the user's taste.\\n\")\n",
    "    \n",
    "    print(\"From users with similar taste, \" + str(len(movies_to_def_watch)) + \" movies were found to be greatly enjoyed by a lot of them: \\n\")\n",
    "    print(\"\\n\".join(list(movies_to_def_watch.index)))\n",
    "    \n",
    "    if boolean is False:\n",
    "        return movies_to_watch, must_watch"
   ]
  },
  {
   "cell_type": "markdown",
   "metadata": {},
   "source": [
    "### Segunda função geral"
   ]
  },
  {
   "cell_type": "code",
   "execution_count": 136,
   "metadata": {
    "ExecuteTime": {
     "end_time": "2021-01-08T14:56:24.145539Z",
     "start_time": "2021-01-08T14:56:24.138554Z"
    }
   },
   "outputs": [],
   "source": [
    "def recommendation(n, movie_by_user, movie_ratings, user_ratings):\n",
    "    \n",
    "    seen_dict, not_seen_dict,user_ratings = votes_evaluation(movie_by_user, movie_ratings, user_ratings)\n",
    "    \n",
    "    id_n = int(user_ratings.reset_index().loc[n,'userId']) # get user n's id\n",
    "    \n",
    "    most_related_users = similarity_eval(user_ratings, id_n)\n",
    "    \n",
    "    return recommending(most_related_users, movie_by_user, not_seen_dict, id_n, True)\n"
   ]
  },
  {
   "cell_type": "code",
   "execution_count": 137,
   "metadata": {
    "ExecuteTime": {
     "end_time": "2021-01-08T14:56:24.157533Z",
     "start_time": "2021-01-08T14:56:24.147529Z"
    }
   },
   "outputs": [],
   "source": [
    "def get_most_watched(movie_by_user):\n",
    "    movie_count = movie_by_user.copy()\n",
    "    movie_count.fillna(0, inplace = True)\n",
    "    movie_count = pd.DataFrame(np.where(movie_count!=0,1,0), index = movie_by_user.index, columns = movie_by_user.columns)\n",
    "    most_watched = movie_count.sum(axis=0).sort_values()\n",
    "    return most_watched.reset_index()"
   ]
  },
  {
   "cell_type": "code",
   "execution_count": 138,
   "metadata": {
    "ExecuteTime": {
     "end_time": "2021-01-08T14:56:24.168481Z",
     "start_time": "2021-01-08T14:56:24.159497Z"
    }
   },
   "outputs": [],
   "source": [
    "def profile(movie_name, movie_by_user, rate, most_watched):\n",
    "\n",
    "    rate_list = [rate-1,rate,rate+1]\n",
    "    \n",
    "    movie_same_rate = movie_by_user[movie_by_user[movie_name].isin(rate_list)].index\n",
    "    \n",
    "    movie_means_for_related_user = movie_by_user.loc[movie_same_rate,:].mean()[movie_by_user.loc[movie_same_rate,:].mean().notnull()]\n",
    "\n",
    "    \n",
    "    movie_means_for_related_user = movie_means_for_related_user[((movie_means_for_related_user>rate-1.2) & (movie_means_for_related_user<rate+1.2)) | (movie_means_for_related_user<1.5) | (movie_means_for_related_user>4.5)]\n",
    "        \n",
    "#     for title in movie_means_for_related_user.index[1:]:\n",
    "#         if isinstance(movie_by_user.loc[movie_same_rate,:][title], np.float64):\n",
    "#             movie_means_for_related_user = movie_means_for_related_user.drop(title)\n",
    "#         elif len(movie_by_user.loc[movie_same_rate,:][movie_by_user.loc[movie_same_rate,:][title].notnull()]) <round(len(movie_same_rate)*0.3):\n",
    "#             movie_means_for_related_user = movie_means_for_related_user.drop(title)\n",
    "        \n",
    "    \n",
    "    most_similar = movie_means_for_related_user.reset_index()\n",
    "    most_similar.rename(columns = {0:'rates'}, inplace = True)\n",
    "    watches = get_most_watched(movie_by_user.loc[:,movie_by_user.columns.isin(most_similar['title'])])\n",
    "\n",
    "    \n",
    "    watches.rename(columns = {0:'count'}, inplace = True)\n",
    "    most_similar = most_similar.merge(watches, on = 'title')\n",
    "\n",
    "    \n",
    "    most_similar = most_similar.sort_values(['count','rates'], ascending = False)\n",
    "    \n",
    "    most_similar = most_similar[~most_similar['title'].isin(most_watched)][::5]\n",
    "    \n",
    "    if len(most_similar)>5:\n",
    "        most_similar = most_similar.iloc[-25:,:]['title']\n",
    "    else:\n",
    "        most_similar = most_similar['title']\n",
    "        \n",
    "    return list(most_similar)"
   ]
  },
  {
   "cell_type": "code",
   "execution_count": 148,
   "metadata": {
    "ExecuteTime": {
     "end_time": "2021-01-08T16:20:07.221889Z",
     "start_time": "2021-01-08T16:20:07.216902Z"
    }
   },
   "outputs": [],
   "source": [
    "def run_checkbox_1(ev):\n",
    "    display(Javascript('IPython.notebook.execute_cells([26])'))\n",
    "    clear_output(wait=True)\n",
    "    display(Image(filename='arrow_down.png'))"
   ]
  },
  {
   "cell_type": "code",
   "execution_count": 140,
   "metadata": {
    "ExecuteTime": {
     "end_time": "2021-01-08T14:56:24.190437Z",
     "start_time": "2021-01-08T14:56:24.182441Z"
    }
   },
   "outputs": [],
   "source": [
    "def run_checkbox_2(ev):\n",
    "    display(Javascript('IPython.notebook.execute_cells([25])'))\n",
    "    clear_output(wait=True)\n",
    "    display(Image(filename='arrow_up.png'))"
   ]
  },
  {
   "cell_type": "code",
   "execution_count": 141,
   "metadata": {
    "ExecuteTime": {
     "end_time": "2021-01-08T14:56:24.203408Z",
     "start_time": "2021-01-08T14:56:24.192409Z"
    }
   },
   "outputs": [],
   "source": [
    "def request(most_rated):\n",
    "\n",
    "    names = []\n",
    "    checkbox_objects = []\n",
    "    for i in most_rated:\n",
    "        checkbox_objects.append(widgets.Checkbox(value=False, description=i))\n",
    "        names.append(i)  \n",
    "\n",
    "    arg_dict = {names[i]: checkbox for i, checkbox in enumerate(checkbox_objects)}\n",
    "\n",
    "    widget = widgets.VBox(children=checkbox_objects)\n",
    "    \n",
    "    button = widgets.Button(description=\"Go\")\n",
    "    button.on_click(run_checkbox_1)\n",
    "    \n",
    "    #button2 = widgets.Button(description=\"Stop\")\n",
    "    #button2.on_click(run_recommendation)\n",
    "\n",
    "    display(widget, button)\n",
    "    \n",
    "    return widget"
   ]
  },
  {
   "cell_type": "code",
   "execution_count": 142,
   "metadata": {
    "ExecuteTime": {
     "end_time": "2021-01-08T14:56:24.214372Z",
     "start_time": "2021-01-08T14:56:24.205373Z"
    }
   },
   "outputs": [],
   "source": [
    "def rating(lista):\n",
    "    temp_dict = {}\n",
    "    i = 0\n",
    "    while i < len(lista):\n",
    "        rate = input('From 1 to 5, what would be your rate for ' + lista[i] + ':')\n",
    "        print('\\n')\n",
    "        time.sleep(.6)\n",
    "        clear_output(wait=True)\n",
    "        try:\n",
    "            temp = float(rate)\n",
    "        except:\n",
    "            print('Not a valid rate. Try again.')\n",
    "            continue\n",
    "        temp_dict[lista[i]] = float(rate)\n",
    "        i +=1\n",
    "    return temp_dict"
   ]
  }
 ],
 "metadata": {
  "kernelspec": {
   "display_name": "Python 3",
   "language": "python",
   "name": "python3"
  },
  "language_info": {
   "codemirror_mode": {
    "name": "ipython",
    "version": 3
   },
   "file_extension": ".py",
   "mimetype": "text/x-python",
   "name": "python",
   "nbconvert_exporter": "python",
   "pygments_lexer": "ipython3",
   "version": "3.7.4"
  }
 },
 "nbformat": 4,
 "nbformat_minor": 2
}
